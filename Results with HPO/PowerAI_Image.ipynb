{
  "nbformat": 4,
  "nbformat_minor": 0,
  "metadata": {
    "accelerator": "GPU",
    "colab": {
      "name": "PowerAI_Image.ipynb",
      "provenance": [],
      "collapsed_sections": []
    },
    "kernelspec": {
      "display_name": "Python 3",
      "language": "python",
      "name": "python3"
    },
    "language_info": {
      "codemirror_mode": {
        "name": "ipython",
        "version": 3
      },
      "file_extension": ".py",
      "mimetype": "text/x-python",
      "name": "python",
      "nbconvert_exporter": "python",
      "pygments_lexer": "ipython3",
      "version": "3.7.7"
    }
  },
  "cells": [
    {
      "cell_type": "markdown",
      "metadata": {
        "colab_type": "text",
        "id": "PY7rMtaApkcm"
      },
      "source": [
        "# **Performance of Gradient Boosting Algorithms on a Image Dataset**"
      ]
    },
    {
      "cell_type": "markdown",
      "metadata": {
        "colab_type": "text",
        "id": "15kpfM_tpoSQ"
      },
      "source": [
        "# This Notebook contains the comparative analysis of 3 Boosting Algorithms -\n",
        "XGBoost, SnapBoost and LightGBM trained and tested on a Image Dataset"
      ]
    },
    {
      "cell_type": "code",
      "metadata": {
        "colab_type": "code",
        "id": "i-paFoG9muPl",
        "colab": {}
      },
      "source": [
        ""
      ],
      "execution_count": null,
      "outputs": []
    },
    {
      "cell_type": "code",
      "metadata": {
        "colab_type": "code",
        "id": "n0MYZzRwkvX6",
        "colab": {}
      },
      "source": [
        "import warnings\n",
        "warnings.filterwarnings('ignore')\n",
        "import numpy as np\n",
        "import pandas as pd\n",
        "import sys\n",
        "import os\n",
        "import warnings\n",
        "from datetime import datetime\n",
        "import matplotlib as mpl\n",
        "from sklearn.model_selection import train_test_split\n",
        "from sklearn.metrics import accuracy_score \n",
        "from sklearn.model_selection import StratifiedKFold\n",
        "from sklearn.model_selection import cross_val_score\n",
        "from sklearn.metrics import roc_auc_score\n",
        "from hyperopt import hp, fmin, tpe, STATUS_OK, Trials\n",
        "import pickle\n",
        "import lightgbm as lgb\n",
        "from xgboost import XGBClassifier\n",
        "from pai4sk import BoostingMachine\n",
        "from matplotlib import pyplot as plt"
      ],
      "execution_count": null,
      "outputs": []
    },
    {
      "cell_type": "code",
      "metadata": {
        "colab_type": "code",
        "id": "m-_NqmePRxxG",
        "colab": {}
      },
      "source": [
        "#\n",
        "# TAKEN FROM https://keras.io/examples/cifar10_cnn/\n",
        "# but with load_data() pulled out to work with your own cifar data set\n",
        "#\n",
        "\n",
        "def load_batch(fpath, label_key='labels'):\n",
        "    \"\"\"Internal utility for parsing CIFAR data.\n",
        "    # Arguments\n",
        "        fpath: path the file to parse.\n",
        "        label_key: key for label data in the retrieve\n",
        "            dictionary.\n",
        "    # Returns\n",
        "        A tuple `(data, labels)`.\n",
        "    \"\"\"\n",
        "    with open(fpath, 'rb') as f:\n",
        "        if sys.version_info < (3,):\n",
        "            d = pickle.load(f)\n",
        "        else:\n",
        "            d = pickle.load(f, encoding='bytes')\n",
        "            # decode utf8\n",
        "            d_decoded = {}\n",
        "            for k, v in d.items():\n",
        "                d_decoded[k.decode('utf8')] = v\n",
        "            d = d_decoded\n",
        "    data = d['data']\n",
        "    labels = d[label_key]\n",
        "\n",
        "    data = data.reshape(data.shape[0], 3, 32, 32)\n",
        "    return data, labels\n",
        "\n",
        "\n",
        "def load_data():\n",
        "    \"\"\"Loads CIFAR10 dataset.\n",
        "    # Returns\n",
        "        Tuple of Numpy arrays: `(x_train, y_train), (x_test, y_test)`.\n",
        "    \"\"\"\n",
        "    path = 'cifar-10-batches-py'\n",
        "\n",
        "    num_train_samples = 50000\n",
        "\n",
        "    x_train_local = np.empty((num_train_samples, 3, 32, 32), dtype='uint8')\n",
        "    y_train_local = np.empty((num_train_samples,), dtype='uint8')\n",
        "\n",
        "    for i in range(1,1):\n",
        "        fpath = os.path.join(path, 'data_batch_' + str(i))\n",
        "        (x_train_local[(i - 1) * 10000: i * 10000, :, :, :],\n",
        "         y_train_local[(i - 1) * 10000: i * 10000]) = load_batch(fpath)\n",
        "\n",
        "    fpath = os.path.join(path, 'test_batch')\n",
        "    x_test_local, y_test_local = load_batch(fpath)\n",
        "\n",
        "    y_train_local = np.reshape(y_train_local, (len(y_train_local), 1))\n",
        "    y_test_local = np.reshape(y_test_local, (len(y_test_local), 1))\n",
        "\n",
        "#     if K.image_data_format() == 'channels_last':\n",
        "#         x_train_local = x_train_local.transpose(0, 2, 3, 1)\n",
        "#         x_test_local = x_test_local.transpose(0, 2, 3, 1)\n",
        "\n",
        "    return (x_train_local, y_train_local), (x_test_local, y_test_local)\n",
        "\n",
        "\n",
        "batch_size = 32\n",
        "num_classes = 10\n",
        "epochs = 100\n",
        "data_augmentation = True\n",
        "num_predictions = 20\n",
        "save_dir = os.path.join(os.getcwd(), 'saved_models')\n",
        "model_name = 'keras_cifar10_trained_model.h5'"
      ],
      "execution_count": null,
      "outputs": []
    },
    {
      "cell_type": "code",
      "metadata": {
        "colab_type": "code",
        "id": "lETAqMFrk8Jw",
        "colab": {}
      },
      "source": [
        "# data: shuffled and split between train and test sets\n",
        "(X_train, y_train), (X_test, y_test) = load_data()"
      ],
      "execution_count": null,
      "outputs": []
    },
    {
      "cell_type": "markdown",
      "metadata": {
        "colab_type": "text",
        "id": "EhkXraBPp2Z-"
      },
      "source": [
        "# **Preprocess the data**"
      ]
    },
    {
      "cell_type": "code",
      "metadata": {
        "colab_type": "code",
        "id": "cdsCTRW7Gj2W",
        "colab": {}
      },
      "source": [
        "X_train = X_train[:50000] ### Slicing to the required size #####\n",
        "y_train = y_train[:50000]\n",
        "X_test = X_test[:1000]\n",
        "y_test = y_test[:1000]"
      ],
      "execution_count": null,
      "outputs": []
    },
    {
      "cell_type": "code",
      "metadata": {
        "colab_type": "code",
        "id": "Isii9wXeGmHx",
        "colab": {
          "base_uri": "https://localhost:8080/",
          "height": 34
        },
        "outputId": "1d81bc97-f8a5-4ff6-928f-809356f361db"
      },
      "source": [
        "X_train.shape"
      ],
      "execution_count": null,
      "outputs": [
        {
          "output_type": "execute_result",
          "data": {
            "text/plain": [
              "(50000, 3, 32, 32)"
            ]
          },
          "metadata": {
            "tags": []
          },
          "execution_count": 5
        }
      ]
    },
    {
      "cell_type": "code",
      "metadata": {
        "colab_type": "code",
        "id": "0XDxQM74GmkK",
        "colab": {
          "base_uri": "https://localhost:8080/",
          "height": 34
        },
        "outputId": "96505d77-eabc-4944-e3db-5751679574aa"
      },
      "source": [
        "X_test.shape"
      ],
      "execution_count": null,
      "outputs": [
        {
          "output_type": "execute_result",
          "data": {
            "text/plain": [
              "(1000, 3, 32, 32)"
            ]
          },
          "metadata": {
            "tags": []
          },
          "execution_count": 6
        }
      ]
    },
    {
      "cell_type": "code",
      "metadata": {
        "colab_type": "code",
        "id": "M8xV3-kSGrQ8",
        "colab": {
          "base_uri": "https://localhost:8080/",
          "height": 680
        },
        "outputId": "696b6811-9f84-405d-e8d6-b8c8202d9131"
      },
      "source": [
        "y_train"
      ],
      "execution_count": null,
      "outputs": [
        {
          "output_type": "execute_result",
          "data": {
            "text/plain": [
              "array([[ 0],\n",
              "       [32],\n",
              "       [ 0],\n",
              "       ...,\n",
              "       [ 0],\n",
              "       [ 0],\n",
              "       [ 0]], dtype=uint8)"
            ]
          },
          "metadata": {
            "tags": []
          },
          "execution_count": 7
        }
      ]
    },
    {
      "cell_type": "code",
      "metadata": {
        "colab_type": "code",
        "id": "pLD3Cekkk_rd",
        "colab": {}
      },
      "source": [
        " # X_train is 50000 rows of 3x32x32 values --> reshaped in 50000 x 3072\n",
        "RESHAPED = 3072\n",
        "\n",
        "X_train = X_train.reshape(50000, RESHAPED)\n",
        "X_test = X_test.reshape(1000, RESHAPED)\n",
        "X_train = X_train.astype('float32')\n",
        "X_test = X_test.astype('float32')\n",
        "\n",
        "y_train = y_train.flatten()\n",
        "y_test = y_test.flatten()"
      ],
      "execution_count": null,
      "outputs": []
    },
    {
      "cell_type": "code",
      "metadata": {
        "colab_type": "code",
        "id": "1gUMoIO_lG-O",
        "colab": {
          "base_uri": "https://localhost:8080/",
          "height": 51
        },
        "outputId": "c214e71f-7db8-486f-b357-8d9f2ec8862c"
      },
      "source": [
        "  # normalize the datasets\n",
        "X_train /= 255.\n",
        "X_test /= 255.\n",
        "\n",
        "print(X_train.shape[0], 'train samples')\n",
        "print(X_test.shape[0], 'test samples')"
      ],
      "execution_count": null,
      "outputs": [
        {
          "output_type": "stream",
          "text": [
            "50000 train samples\n",
            "1000 test samples\n"
          ],
          "name": "stdout"
        }
      ]
    },
    {
      "cell_type": "code",
      "metadata": {
        "colab_type": "code",
        "id": "iY0gdLv0qg-t",
        "colab": {}
      },
      "source": [
        "from sklearn import preprocessing\n",
        "def multiclass_roc_auc_score(y_test, pred, average=\"macro\"):\n",
        "    lb = preprocessing.LabelBinarizer() \n",
        "    lb.fit(y_test)\n",
        "    y_test = lb.transform(y_test)\n",
        "    pred = lb.transform(pred)\n",
        "    return roc_auc_score(y_test, pred, average=average)"
      ],
      "execution_count": null,
      "outputs": []
    },
    {
      "cell_type": "markdown",
      "metadata": {
        "colab_type": "text",
        "id": "0BiF0Umdp9q0"
      },
      "source": [
        "# **Fit SnapBoost model to the data**"
      ]
    },
    {
      "cell_type": "code",
      "metadata": {
        "colab_type": "code",
        "id": "Gur4wMptoo9-",
        "colab": {}
      },
      "source": [
        "num_threads = 25\n",
        "sb_hps = {\n",
        "            'objective': 'mse',\n",
        "#             'num_round': hp.uniform('num_round', 10, 700, 1),\n",
        "            'min_max_depth':hp.choice('min_max_depth',np.arange(1,6,1,dtype = int)), \n",
        "            'max_max_depth':hp.choice('max_max_depth',np.arange(6,10,1,dtype = int)),\n",
        "            'learning_rate':hp.loguniform('learning_rate', -5.0, -2.3), \n",
        "            'colsample_bytree': hp.quniform('colsample_bytree',0.3, 0.8, 0.1),\n",
        "            'lambda_l2':hp.quniform('lambda_l2',2, 16, 1),\n",
        "            'subsample':hp.quniform('subsample',0.3, 1.0, 0.1),\n",
        "            'hist_nbins': 10,\n",
        "            'random_state':42, \n",
        "            'n_threads':num_threads\n",
        "}\n",
        "depth_list_min = [i for i in range(1,6,1)]\n",
        "depth_list_max = [i for i in range(6,10,1)]"
      ],
      "execution_count": null,
      "outputs": []
    },
    {
      "cell_type": "code",
      "metadata": {
        "colab_type": "code",
        "id": "Xu46iCSHp28Y",
        "colab": {}
      },
      "source": [
        "accuracy_list_sb = []\n",
        "def HPO_sb(sb_hps):\n",
        "    model = model = BoostingMachine(**sb_hps)\n",
        "    model.fit(X_train,y_train)\n",
        "    y_pred = model.predict(X_test)\n",
        "    accuracy_sb = accuracy_score(y_pred.round(),y_test).mean()\n",
        "    accuracy_list_sb.append(accuracy_sb)\n",
        "    return {'loss': -accuracy_sb, 'status': STATUS_OK }"
      ],
      "execution_count": null,
      "outputs": []
    },
    {
      "cell_type": "code",
      "metadata": {
        "colab_type": "code",
        "id": "eIm_xktFp_c6",
        "colab": {
          "base_uri": "https://localhost:8080/",
          "height": 459
        },
        "outputId": "1d736fe9-d7d2-4aa3-baa9-26de1b96f82f"
      },
      "source": [
        "trials = Trials()\n",
        "best_sb = fmin(fn= HPO_sb,\n",
        "            space= sb_hps,\n",
        "            algo= tpe.suggest,\n",
        "            max_evals = 180,\n",
        "            trials = trials\n",
        "            )\n",
        "max_acc_sb = max(accuracy_list_sb)\n",
        "print(\"Best Hyperparameters for SnapBoost are: \\n\")\n",
        "best_sb"
      ],
      "execution_count": null,
      "outputs": [
        {
          "output_type": "stream",
          "text": [
            "100%|██████████| 180/180 [02:21<00:00,  1.27trial/s, best loss: -0.112]\n",
            "Best Hyperparameters for SnapBoost are: \n",
            "\n"
          ],
          "name": "stdout"
        },
        {
          "output_type": "execute_result",
          "data": {
            "text/plain": [
              "{'colsample_bytree': 0.4,\n",
              " 'lambda_l2': 8.0,\n",
              " 'learning_rate': 0.09957589620671915,\n",
              " 'max_max_depth': 3,\n",
              " 'min_max_depth': 2,\n",
              " 'subsample': 1.0}"
            ]
          },
          "metadata": {
            "tags": []
          },
          "execution_count": 13
        }
      ]
    },
    {
      "cell_type": "code",
      "metadata": {
        "colab_type": "code",
        "id": "PTDx5PXXqFaq",
        "colab": {},
        "outputId": "04bd37f4-eafa-4506-f946-3df2fe46c66b"
      },
      "source": [
        "parameters = ['min_max_depth','max_max_depth','learning_rate','colsample_bytree','lambda_l2','subsample']\n",
        "f, axes = plt.subplots(nrows=3, ncols=2, figsize=(15,8))\n",
        "f.tight_layout()\n",
        "cmap = plt.cm.jet\n",
        "for i, val in enumerate(parameters):\n",
        "    if val == 'min_max_depth' :\n",
        "        best_sb[val] = depth_list_min[best_sb[val]]\n",
        "    if val == 'max_max_depth':\n",
        "        best_sb[val] = depth_list_max[best_sb[val]]\n",
        "    print(\"Best \" + str(val) + \"   =   \" + str(best_sb[val]))\n",
        "    xs = np.array([t['misc']['vals'][val] for t in trials.trials]).ravel()\n",
        "    ys = [-t['result']['loss'] for t in trials.trials]\n",
        "    xs, ys = zip(*sorted(zip(xs, ys)))\n",
        "    ys = np.array(ys)\n",
        "    c=np.array(cmap(float(i)/len(parameters)))\n",
        "    axes[i//2,i%2].scatter(xs, ys, s=20, linewidth=0.01, alpha=0.5, c=c.reshape(1,-1))\n",
        "    axes[i//2,i%2].scatter(best_sb[val],max_acc_sb,color = \"red\")\n",
        "    axes[i//2,i%2].set_title(val)"
      ],
      "execution_count": null,
      "outputs": [
        {
          "output_type": "stream",
          "text": [
            "Best min_max_depth   =   3\n",
            "Best max_max_depth   =   9\n",
            "Best learning_rate   =   0.09957589620671915\n",
            "Best colsample_bytree   =   0.4\n",
            "Best lambda_l2   =   8.0\n",
            "Best subsample   =   1.0\n"
          ],
          "name": "stdout"
        },
        {
          "output_type": "display_data",
          "data": {
            "image/png": "[encoded data removed]",
            "text/plain": [
              "<Figure size 1080x576 with 6 Axes>"
            ]
          },
          "metadata": {
            "tags": [],
            "needs_background": "light"
          }
        }
      ]
    },
    {
      "cell_type": "code",
      "metadata": {
        "colab_type": "code",
        "id": "QYCfKz_7lKoh",
        "scrolled": true,
        "colab": {},
        "outputId": "9a7fce72-70ea-4548-a648-2fb09f1e1bf0"
      },
      "source": [
        "max_max_depth = 6\n",
        "min_max_depth = 6\n",
        "num_round = 60\n",
        "learning_rate = 0.1\n",
        "num_threads = 25\n",
        "booster = BoostingMachine(**best_sb)\n",
        "t1=datetime.now()\n",
        "booster.fit(X_train, y_train)\n",
        "t2=datetime.now()\n",
        "execution_time_snap_boost = t2-t1\n",
        "t3 = datetime.now()\n",
        "ypred = booster.predict(X_test)\n",
        "t4 = datetime.now()\n",
        "accuracy_snap_boost = round(multiclass_roc_auc_score(y_test,ypred.round()),2)\n",
        "print(\"Accuracy score = \",accuracy_snap_boost*100,\"%\")\n",
        "print(\"Execution time = \",execution_time_snap_boost)\n",
        "print(\"Prediction time = \",t4-t3)\n",
        "snap_boost_train_time = t2-t1"
      ],
      "execution_count": null,
      "outputs": [
        {
          "output_type": "stream",
          "text": [
            "Accuracy score =  50.0 %\n",
            "Execution time =  0:00:04.546223\n",
            "Prediction time =  0:00:00.001331\n"
          ],
          "name": "stdout"
        }
      ]
    },
    {
      "cell_type": "markdown",
      "metadata": {
        "colab_type": "text",
        "id": "tVoERUHwqJaN"
      },
      "source": [
        "# **Fit LightGBM model to the data**"
      ]
    },
    {
      "cell_type": "code",
      "metadata": {
        "colab_type": "code",
        "id": "amgcu7snn4tm",
        "colab": {}
      },
      "source": [
        "lgb_hps = { 'num_leaves': hp.choice('num_leaves',np.arange(100, 200, 10, dtype=int)),\n",
        "            'max_depth': hp.choice('max_depth',np.arange(5, 16, 1, dtype=int)),\n",
        "#             'n_estimators': hp.quniform('n_estimators', 10, 700, 1),\n",
        "            'feature_fraction': hp.uniform('feature_fraction', 0.75, 1.0),\n",
        "            'bagging_fraction': hp.uniform('bagging_fraction', 0.75, 1.0),\n",
        "            'learning_rate': hp.loguniform('learning_rate', -5.0, -2.3),\n",
        "            'lambda_l1': hp.uniform('lambda_l1', 0, 10),\n",
        "            'lambda_l2': hp.uniform('lambda_l2', 0, 10)\n",
        "          }\n",
        "\n",
        "num_leaves_list = [100,110,120,130,140,150,160,170,180,190,200]\n",
        "## Manual Best till date Checkpoint ##\n",
        "# params = {'num_leaves':150, 'objective':'binary','max_depth':7,'learning_rate':.05,'max_bin':200}\n",
        "# params['metric'] = ['auc', 'binary_logloss']"
      ],
      "execution_count": null,
      "outputs": []
    },
    {
      "cell_type": "code",
      "metadata": {
        "colab_type": "code",
        "id": "KBqC7e6yn4wq",
        "colab": {}
      },
      "source": [
        "accuracy_list_lgbm = []\n",
        "def HPO_lgbm(lgb_hps):\n",
        "    num_round = 50\n",
        "    train_data=lgb.Dataset(X_train,label=y_train)\n",
        "    lgbm=lgb.train(lgb_hps,train_data,num_round)\n",
        "    ypred2=lgbm.predict(X_test)\n",
        "    accuracy_lgbm = accuracy_score(y_test,ypred2.round()).mean()\n",
        "    accuracy_list_lgbm.append(accuracy_lgbm)\n",
        "    return {'loss': -accuracy_lgbm, 'status': STATUS_OK }"
      ],
      "execution_count": null,
      "outputs": []
    },
    {
      "cell_type": "code",
      "metadata": {
        "colab_type": "code",
        "id": "Y6osQaeMn4zo",
        "colab": {
          "base_uri": "https://localhost:8080/",
          "height": 442
        },
        "outputId": "cb915088-fba7-4dc4-837c-f28b516c367d"
      },
      "source": [
        "trials = Trials()\n",
        "best_lgbm = fmin(fn= HPO_lgbm,\n",
        "            space= lgb_hps,\n",
        "            algo= tpe.suggest,\n",
        "            max_evals = 10,\n",
        "            trials = trials\n",
        "            )\n",
        "max_acc_lgbm = max(accuracy_list_lgbm)\n",
        "print(\"Best Hyperparameters for LGBM are: \\n\")\n",
        "best_lgbm"
      ],
      "execution_count": null,
      "outputs": [
        {
          "output_type": "stream",
          "text": [
            "100%|██████████| 10/10 [00:05<00:00,  1.77trial/s, best loss: -0.106]\n",
            "Best Hyperparameters for LGBM are: \n",
            "\n"
          ],
          "name": "stdout"
        },
        {
          "output_type": "execute_result",
          "data": {
            "text/plain": [
              "{'bagging_fraction': 0.820188932748134,\n",
              " 'feature_fraction': 0.785626356132586,\n",
              " 'lambda_l1': 6.762830349973443,\n",
              " 'lambda_l2': 3.7480402472877605,\n",
              " 'learning_rate': 0.0418336909562375,\n",
              " 'max_depth': 6,\n",
              " 'num_leaves': 1}"
            ]
          },
          "metadata": {
            "tags": []
          },
          "execution_count": 18
        }
      ]
    },
    {
      "cell_type": "code",
      "metadata": {
        "colab_type": "code",
        "id": "ATJzh086n2pg",
        "colab": {},
        "outputId": "e71db2c9-2c05-4bed-e271-9728d3214127"
      },
      "source": [
        "parameters = ['num_leaves','max_depth','feature_fraction','bagging_fraction','learning_rate','lambda_l1','lambda_l2']\n",
        "f, axes = plt.subplots(nrows=4, ncols=2, figsize=(10,8))\n",
        "f.tight_layout()\n",
        "cmap = plt.cm.jet\n",
        "for i, val in enumerate(parameters):\n",
        "    print(\"Best \" + str(val) + \"   =   \" + str(best_lgbm[val]))\n",
        "    xs = np.array([t['misc']['vals'][val] for t in trials.trials]).ravel()\n",
        "    ys = [-t['result']['loss'] for t in trials.trials]\n",
        "    xs, ys = zip(*sorted(zip(xs, ys)))\n",
        "    ys = np.array(ys)\n",
        "    c=np.array(cmap(float(i)/len(parameters)))\n",
        "    axes[i//2,i%2].scatter(xs, ys, s=20, linewidth=0.01, alpha=0.5, c=c.reshape(1,-1))\n",
        "    axes[i//2,i%2].scatter(best_lgbm[val],max_acc_lgbm,color = \"red\")\n",
        "    axes[i//2,i%2].set_title(val)"
      ],
      "execution_count": null,
      "outputs": [
        {
          "output_type": "stream",
          "text": [
            "Best num_leaves   =   1\n",
            "Best max_depth   =   6\n",
            "Best feature_fraction   =   0.785626356132586\n",
            "Best bagging_fraction   =   0.820188932748134\n",
            "Best learning_rate   =   0.0418336909562375\n",
            "Best lambda_l1   =   6.762830349973443\n",
            "Best lambda_l2   =   3.7480402472877605\n"
          ],
          "name": "stdout"
        },
        {
          "output_type": "display_data",
          "data": {
            "image/png": "[encoded data removed]",
            "text/plain": [
              "<Figure size 720x576 with 8 Axes>"
            ]
          },
          "metadata": {
            "tags": [],
            "needs_background": "light"
          }
        }
      ]
    },
    {
      "cell_type": "code",
      "metadata": {
        "colab_type": "code",
        "id": "MpNPeWWQoFEB",
        "colab": {}
      },
      "source": [
        ""
      ],
      "execution_count": null,
      "outputs": []
    },
    {
      "cell_type": "code",
      "metadata": {
        "colab_type": "code",
        "id": "vFiGeOJo1y2v",
        "colab": {},
        "outputId": "ca53f685-2996-4276-d03a-ae6db6b5bfa4"
      },
      "source": [
        "params = { \n",
        "            'num_leaves': num_leaves_list[best_lgbm['num_leaves']],\n",
        "            'max_depth': best_lgbm['max_depth'],\n",
        "#             'n_estimators': best_lgbm['n_estimators'],\n",
        "            'feature_fraction':best_lgbm['feature_fraction'],\n",
        "            'bagging_fraction':best_lgbm['bagging_fraction'],\n",
        "            'learning_rate':best_lgbm['learning_rate'],\n",
        "            'lambda_l1': best_lgbm['lambda_l1'],\n",
        "            'lambda_l2':best_lgbm['lambda_l2']\n",
        "          }\n",
        "train_data=lgb.Dataset(X_train,label=y_train)\n",
        "\n",
        "num_round=100\n",
        "t1=datetime.now()\n",
        "lgbm=lgb.train(params,train_data,num_round)\n",
        "t2=datetime.now()\n",
        "execution_time_lgbm = t2-t1\n",
        "t3 = datetime.now()\n",
        "ypred2=lgbm.predict(X_test)\n",
        "t4 = datetime.now()\n",
        "\n",
        "for i in range(0,len(ypred2)): \n",
        "    if ypred2[i] >=0.5:\n",
        "        ypred2[i] = 1\n",
        "    else:\n",
        "        ypred2[i] = 0\n",
        "accuracy_lgbm = round(accuracy_score(ypred2,y_test),5)\n",
        "print(\"Accuracy score = \",accuracy_lgbm*100,\"%\")\n",
        "print(\"Execution time = \",execution_time_lgbm)\n",
        "print(\"Prediction time = \",t4-t3)\n",
        "lgbm_train_time = t2-t1"
      ],
      "execution_count": null,
      "outputs": [
        {
          "output_type": "stream",
          "text": [
            "Accuracy score =  14.000000000000002 %\n",
            "Execution time =  0:00:00.550363\n",
            "Prediction time =  0:00:00.021991\n"
          ],
          "name": "stdout"
        }
      ]
    },
    {
      "cell_type": "markdown",
      "metadata": {
        "colab_type": "text",
        "id": "nI5vC_wXqW9E"
      },
      "source": [
        "# **Fit XGBoost model to the data**"
      ]
    },
    {
      "cell_type": "code",
      "metadata": {
        "colab_type": "code",
        "id": "sS5EUWCAphJA",
        "colab": {}
      },
      "source": [
        "xgb_hps = {  \n",
        "            'learning_rate':     hp.loguniform('learning_rate', -5.0, -2.3),\n",
        "            'max_depth':         hp.choice('max_depth',np.arange(5,16,1,dtype = int)),\n",
        "            'lambda':            hp.quniform('lambda',2, 16, 1),\n",
        "            'subsample':        hp.quniform('subsample',0.1,1.0,0.1),\n",
        "            'colsample_bytree': hp.quniform('colsample_bytree',0.3, 0.8, 0.1),\n",
        "            'min_split_loss' : hp.quniform('min_split_loss',0.1,2.0,0.1)\n",
        "        }\n",
        "\n",
        "depth_list = [i for i in range(5,16,1)]"
      ],
      "execution_count": null,
      "outputs": []
    },
    {
      "cell_type": "code",
      "metadata": {
        "colab_type": "code",
        "id": "dFC1NTFxphMa",
        "colab": {}
      },
      "source": [
        "accuracy_list_xgb = []\n",
        "def HPO_xgb(xgb_hps):\n",
        "    model = model = XGBClassifier(**xgb_hps)\n",
        "    model.fit(X_train,y_train)\n",
        "    y_pred = model.predict(X_test)\n",
        "    accuracy_xgb = accuracy_score(y_pred.round(),y_test).mean()\n",
        "    accuracy_list_xgb.append(accuracy_xgb)\n",
        "    return {'loss': -accuracy_xgb, 'status': STATUS_OK }"
      ],
      "execution_count": null,
      "outputs": []
    },
    {
      "cell_type": "code",
      "metadata": {
        "colab_type": "code",
        "id": "vl21ZCnprLZK",
        "colab": {
          "base_uri": "https://localhost:8080/",
          "height": 170
        },
        "outputId": "73f122bd-c009-4b25-f35c-083aa5f53b27"
      },
      "source": [
        "trials = Trials()\n",
        "best_xgb = fmin(fn= HPO_xgb,\n",
        "            space= xgb_hps,\n",
        "            algo= tpe.suggest,\n",
        "            max_evals = 1,\n",
        "            trials = trials\n",
        "            )\n",
        "max_acc_xgb = max(accuracy_list_xgb)\n",
        "print(\"Best Hyperparameters for XGBoost are: \\n\")\n",
        "best_xgb"
      ],
      "execution_count": null,
      "outputs": [
        {
          "output_type": "stream",
          "text": [
            "Best Hyperparameters for XGBoost are: \n",
            "\n"
          ],
          "name": "stdout"
        },
        {
          "output_type": "execute_result",
          "data": {
            "text/plain": [
              "{'max_depth': 6,\n",
              " 'subsample': 0.4,\n",
              " 'learning_rate': 0.017447955562545366,\n",
              " 'min_split_loss': 1.5,\n",
              " 'lambda': 10.0,\n",
              " 'colsample_bytree': 0.4}"
            ]
          },
          "metadata": {
            "tags": []
          },
          "execution_count": 1
        }
      ]
    },
    {
      "cell_type": "code",
      "metadata": {
        "colab_type": "code",
        "id": "8zEgnZvurO-k",
        "colab": {},
        "outputId": "2294bfc8-d52f-42e4-fe16-f930b7d82d98"
      },
      "source": [
        "parameters = ['max_depth','subsample','learning_rate','min_split_loss','lambda','colsample_bytree']\n",
        "f, axes = plt.subplots(nrows=3, ncols=2, figsize=(15,8))\n",
        "f.tight_layout()\n",
        "cmap = plt.cm.jet\n",
        "for i, val in enumerate(parameters):\n",
        "    if val == 'max_depth':\n",
        "        best_xgb[val] = depth_list[best_xgb[val]]\n",
        "    print(\"Best \" + str(val) + \"   =   \" + str(best_xgb[val]))\n",
        "    xs = np.array([t['misc']['vals'][val] for t in trials.trials]).ravel()\n",
        "    ys = [-t['result']['loss'] for t in trials.trials]\n",
        "    xs, ys = zip(*sorted(zip(xs, ys)))\n",
        "    ys = np.array(ys)\n",
        "    c=np.array(cmap(float(i)/len(parameters)))\n",
        "    axes[i//2,i%2].scatter(xs, ys, s=20, linewidth=0.01, alpha=0.5, c=c.reshape(1,-1))\n",
        "    axes[i//2,i%2].scatter(best_xgb[val],max_acc_xgb,color = \"red\")\n",
        "    axes[i//2,i%2].set_title(val)"
      ],
      "execution_count": null,
      "outputs": [
        {
          "output_type": "stream",
          "text": [
            "Best max_depth   =   11\n",
            "Best subsample   =   0.4\n",
            "Best learning_rate   =   0.017447955562545366\n",
            "Best min_split_loss   =   1.5\n",
            "Best lambda   =   10.0\n",
            "Best colsample_bytree   =   0.4\n"
          ],
          "name": "stdout"
        },
        {
          "output_type": "display_data",
          "data": {
            "image/png": "[encoded data removed]",
            "text/plain": [
              "<Figure size 1080x576 with 6 Axes>"
            ]
          },
          "metadata": {
            "tags": [],
            "needs_background": "light"
          }
        }
      ]
    },
    {
      "cell_type": "code",
      "metadata": {
        "colab_type": "code",
        "id": "Y-TG1-CH2CIn",
        "colab": {},
        "outputId": "6ed062fc-bf2f-471b-a783-7d6e795d9235"
      },
      "source": [
        "from xgboost import XGBClassifier\n",
        "model = XGBClassifier(**best_xgb)\n",
        "t1=datetime.now()\n",
        "model.fit(X_train,y_train)\n",
        "t2=datetime.now()\n",
        "execution_time_xgb = t2-t1\n",
        "t3 = datetime.now()\n",
        "y_pred = model.predict(X_test)\n",
        "t4 = datetime.now()\n",
        "predictions = [round(value) for value in y_pred]\n",
        "accuracy_xgb = round(accuracy_score(y_pred,y_test),5)\n",
        "print(\"Accuracy score = \",accuracy_xgb*100,\"%\")\n",
        "print(\"Execution time = \",execution_time_xgb)\n",
        "print(\"Prediction time = \",t4-t3)\n",
        "xgb_train_time = t2-t1"
      ],
      "execution_count": null,
      "outputs": [
        {
          "output_type": "stream",
          "text": [
            "Accuracy score =  41.660000000000004 %\n",
            "Execution time =  0:01:41.219768\n",
            "Prediction time =  0:00:00.023085\n"
          ],
          "name": "stdout"
        }
      ]
    },
    {
      "cell_type": "markdown",
      "metadata": {
        "colab_type": "text",
        "id": "6l_hOR5MqejH"
      },
      "source": [
        "# **Results and Plots**"
      ]
    },
    {
      "cell_type": "markdown",
      "metadata": {
        "colab_type": "text",
        "id": "RyoBxLc7qggn"
      },
      "source": [
        "# **1.Accuracy Plot**"
      ]
    },
    {
      "cell_type": "code",
      "metadata": {
        "colab_type": "code",
        "id": "HhH9vbUf5QFd",
        "colab": {
          "base_uri": "https://localhost:8080/",
          "height": 438
        },
        "outputId": "e1882fc3-e8c2-4b5e-c716-956e563f6994"
      },
      "source": [
        "import matplotlib.pyplot as plt\n",
        "fig = plt.figure(figsize = (4,5))\n",
        "ax = fig.add_axes([0,0,1,1])\n",
        "algorithms = ['LightGBM','XGBoost','SnapBoost']\n",
        "accuracy = [accuracy_lgbm*100, accuracy_xgb*100,accuracy_snap_boost*100]\n",
        "g = ax.bar(algorithms,accuracy)\n",
        "plt.title(\"Accuracy Plot\")\n",
        "plt.xlabel(\"Algorithms on the Image Dataset\")\n",
        "plt.ylabel(\"Accuracy in %\")\n",
        "bar_label = [accuracy_lgbm*100, accuracy_xgb*100,accuracy_snap_boost*100]\n",
        "def autolabel(rects):\n",
        "    for idx,rect in enumerate(g):\n",
        "        height = rect.get_height()\n",
        "        ax.text(rect.get_x() + rect.get_width()/2., 1.0*height,\n",
        "                bar_label[idx],\n",
        "                ha='center', va='bottom', rotation=0)\n",
        "\n",
        "autolabel(g)\n",
        "plt.show()"
      ],
      "execution_count": 5,
      "outputs": [
        {
          "output_type": "display_data",
          "data": {
            "image/png": "[encoded data removed]",
            "text/plain": [
              "<Figure size 288x360 with 1 Axes>"
            ]
          },
          "metadata": {
            "tags": [],
            "needs_background": "light"
          }
        }
      ]
    },
    {
      "cell_type": "markdown",
      "metadata": {
        "colab_type": "text",
        "id": "Au0tDuRqqozN"
      },
      "source": [
        "# **2.Training Time Plot**"
      ]
    },
    {
      "cell_type": "code",
      "metadata": {
        "colab_type": "code",
        "id": "ROMFEo61hzLk",
        "colab": {},
        "outputId": "53e07f14-5ff8-4a0d-abe0-b54b6b6e9427"
      },
      "source": [
        "lg = float(str(lgbm_train_time)[5:])\n",
        "cb = float(str(cat_boost_train_time)[5:])\n",
        "xgb = float(str(xgb_train_time)[5:])\n",
        "fig1 = plt.figure(figsize = (4,5))\n",
        "ay = fig1.add_axes([0,0,1,1])\n",
        "algorithms = ['LightGBM','XGBoost','SnapBoost']\n",
        "training_time = [lg,xgb,cb]\n",
        "g1 = ay.bar(algorithms,training_time)\n",
        "plt.title(\"Training Time Plot\")\n",
        "plt.xlabel(\"Algorithms on the Image Dataset\")\n",
        "plt.ylabel(\"Time Taken in Seconds\")\n",
        "bar_label = training_time\n",
        "def autolabel1(rects):\n",
        "    for idx,rect in enumerate(g1):\n",
        "        height = rect.get_height()\n",
        "        ay.text(rect.get_x() + rect.get_width()/2., 1.0*height,\n",
        "                bar_label[idx],\n",
        "                ha='center', va='bottom', rotation=0)\n",
        "\n",
        "autolabel1(g1)\n",
        "plt.show()"
      ],
      "execution_count": null,
      "outputs": [
        {
          "output_type": "display_data",
          "data": {
            "image/png": "[encoded data removed]",
            "text/plain": [
              "<Figure size 288x360 with 1 Axes>"
            ]
          },
          "metadata": {
            "tags": [],
            "needs_background": "light"
          }
        }
      ]
    },
    {
      "cell_type": "code",
      "metadata": {
        "colab_type": "code",
        "id": "rx343xBx4xnZ",
        "colab": {}
      },
      "source": [
        ""
      ],
      "execution_count": null,
      "outputs": []
    }
  ]
}

{
  "nbformat": 4,
  "nbformat_minor": 0,
  "metadata": {
    "colab": {
      "name": "HPO_Categorical.ipynb",
      "provenance": [],
      "collapsed_sections": [],
      "authorship_tag": "ABX9TyPH7yOCBMvIMQDkkB0uJMQo",
      "include_colab_link": true
    },
    "kernelspec": {
      "name": "python3",
      "display_name": "Python 3"
    }
  },
  "cells": [
    {
      "cell_type": "markdown",
      "metadata": {
        "id": "view-in-github",
        "colab_type": "text"
      },
      "source": [
        "<a href=\"https://colab.research.google.com/github/anubhav48/Catboost-vs-Lightboost-vs-XGBoost-vs-Snapboost/blob/master/HPO_Categorical.ipynb\" target=\"_parent\"><img src=\"https://colab.research.google.com/assets/colab-badge.svg\" alt=\"Open In Colab\"/></a>"
      ]
    },
    {
      "cell_type": "code",
      "metadata": {
        "id": "2UgVNX3DxA3n",
        "colab_type": "code",
        "colab": {}
      },
      "source": [
        "!pip install xgboost --quiet\n",
        "!pip install catboost --quiet\n",
        "!pip install lightgbm --quiet\n",
        "!pip install hyperopt --quiet"
      ],
      "execution_count": null,
      "outputs": []
    },
    {
      "cell_type": "code",
      "metadata": {
        "id": "fjuXxZvvxQd5",
        "colab_type": "code",
        "colab": {}
      },
      "source": [
        "import warnings\n",
        "warnings.filterwarnings(\"ignore\")\n",
        "# Importing Dependencies\n",
        "import numpy as np\n",
        "import pandas as pd\n",
        "import sys\n",
        "import os\n",
        "from datetime import datetime\n",
        "import matplotlib as mpl\n",
        "import seaborn as sns\n",
        "from matplotlib import pyplot as plt\n",
        "from sklearn.model_selection import train_test_split\n",
        "from sklearn.metrics import accuracy_score \n",
        "import lightgbm as lgb\n",
        "from sklearn.metrics import roc_auc_score\n",
        "from catboost import Pool,CatBoostClassifier\n",
        "from xgboost import XGBClassifier\n",
        "from sklearn.model_selection import StratifiedKFold\n",
        "from sklearn.model_selection import cross_val_score\n",
        "\n",
        "from hyperopt import hp, fmin, tpe, STATUS_OK, Trials"
      ],
      "execution_count": null,
      "outputs": []
    },
    {
      "cell_type": "code",
      "metadata": {
        "id": "fHwFukOl1EF5",
        "colab_type": "code",
        "colab": {}
      },
      "source": [
        "input_path = 'https://raw.githubusercontent.com/anubhav48/Comparison/master/pokemon_categorical.csv'"
      ],
      "execution_count": null,
      "outputs": []
    },
    {
      "cell_type": "code",
      "metadata": {
        "id": "APLfLWIc3ogM",
        "colab_type": "code",
        "colab": {}
      },
      "source": [
        "pokemon_df = pd.read_csv(input_path)"
      ],
      "execution_count": null,
      "outputs": []
    },
    {
      "cell_type": "code",
      "metadata": {
        "id": "bNgCps4j3xEa",
        "colab_type": "code",
        "colab": {
          "base_uri": "https://localhost:8080/",
          "height": 823
        },
        "outputId": "1a586d95-ee81-4e2a-e35c-b75d29757354"
      },
      "source": [
        "#basic info of dataset\n",
        "df2 = pokemon_df.select_dtypes(include = ['float64', 'int64'])\n",
        "df3 = pokemon_df.select_dtypes(include = ['object'])\n",
        "pokemon_df.info()"
      ],
      "execution_count": null,
      "outputs": [
        {
          "output_type": "stream",
          "text": [
            "<class 'pandas.core.frame.DataFrame'>\n",
            "RangeIndex: 801 entries, 0 to 800\n",
            "Data columns (total 41 columns):\n",
            " #   Column             Non-Null Count  Dtype  \n",
            "---  ------             --------------  -----  \n",
            " 0   abilities          801 non-null    object \n",
            " 1   against_bug        801 non-null    float64\n",
            " 2   against_dark       801 non-null    float64\n",
            " 3   against_dragon     801 non-null    float64\n",
            " 4   against_electric   801 non-null    float64\n",
            " 5   against_fairy      801 non-null    float64\n",
            " 6   against_fight      801 non-null    float64\n",
            " 7   against_fire       801 non-null    float64\n",
            " 8   against_flying     801 non-null    float64\n",
            " 9   against_ghost      801 non-null    float64\n",
            " 10  against_grass      801 non-null    float64\n",
            " 11  against_ground     801 non-null    float64\n",
            " 12  against_ice        801 non-null    float64\n",
            " 13  against_normal     801 non-null    float64\n",
            " 14  against_poison     801 non-null    float64\n",
            " 15  against_psychic    801 non-null    float64\n",
            " 16  against_rock       801 non-null    float64\n",
            " 17  against_steel      801 non-null    float64\n",
            " 18  against_water      801 non-null    float64\n",
            " 19  attack             801 non-null    int64  \n",
            " 20  base_egg_steps     801 non-null    int64  \n",
            " 21  base_happiness     801 non-null    int64  \n",
            " 22  base_total         801 non-null    int64  \n",
            " 23  capture_rate       801 non-null    int64  \n",
            " 24  classfication      801 non-null    object \n",
            " 25  defense            801 non-null    int64  \n",
            " 26  experience_growth  801 non-null    int64  \n",
            " 27  height_m           781 non-null    float64\n",
            " 28  hp                 801 non-null    int64  \n",
            " 29  japanese_name      801 non-null    object \n",
            " 30  name               801 non-null    object \n",
            " 31  percentage_male    703 non-null    float64\n",
            " 32  pokedex_number     801 non-null    int64  \n",
            " 33  sp_attack          801 non-null    int64  \n",
            " 34  sp_defense         801 non-null    int64  \n",
            " 35  speed              801 non-null    int64  \n",
            " 36  type1              801 non-null    object \n",
            " 37  type2              417 non-null    object \n",
            " 38  weight_kg          781 non-null    float64\n",
            " 39  generation         801 non-null    int64  \n",
            " 40  is_legendary       801 non-null    int64  \n",
            "dtypes: float64(21), int64(14), object(6)\n",
            "memory usage: 256.7+ KB\n"
          ],
          "name": "stdout"
        }
      ]
    },
    {
      "cell_type": "code",
      "metadata": {
        "id": "wwdDm5cFOr8K",
        "colab_type": "code",
        "colab": {
          "base_uri": "https://localhost:8080/",
          "height": 722
        },
        "outputId": "56079373-3f02-4c95-e767-803d06345f9e"
      },
      "source": [
        "df2.info()"
      ],
      "execution_count": null,
      "outputs": [
        {
          "output_type": "stream",
          "text": [
            "<class 'pandas.core.frame.DataFrame'>\n",
            "RangeIndex: 801 entries, 0 to 800\n",
            "Data columns (total 35 columns):\n",
            " #   Column             Non-Null Count  Dtype  \n",
            "---  ------             --------------  -----  \n",
            " 0   against_bug        801 non-null    float64\n",
            " 1   against_dark       801 non-null    float64\n",
            " 2   against_dragon     801 non-null    float64\n",
            " 3   against_electric   801 non-null    float64\n",
            " 4   against_fairy      801 non-null    float64\n",
            " 5   against_fight      801 non-null    float64\n",
            " 6   against_fire       801 non-null    float64\n",
            " 7   against_flying     801 non-null    float64\n",
            " 8   against_ghost      801 non-null    float64\n",
            " 9   against_grass      801 non-null    float64\n",
            " 10  against_ground     801 non-null    float64\n",
            " 11  against_ice        801 non-null    float64\n",
            " 12  against_normal     801 non-null    float64\n",
            " 13  against_poison     801 non-null    float64\n",
            " 14  against_psychic    801 non-null    float64\n",
            " 15  against_rock       801 non-null    float64\n",
            " 16  against_steel      801 non-null    float64\n",
            " 17  against_water      801 non-null    float64\n",
            " 18  attack             801 non-null    int64  \n",
            " 19  base_egg_steps     801 non-null    int64  \n",
            " 20  base_happiness     801 non-null    int64  \n",
            " 21  base_total         801 non-null    int64  \n",
            " 22  capture_rate       801 non-null    int64  \n",
            " 23  defense            801 non-null    int64  \n",
            " 24  experience_growth  801 non-null    int64  \n",
            " 25  height_m           781 non-null    float64\n",
            " 26  hp                 801 non-null    int64  \n",
            " 27  percentage_male    703 non-null    float64\n",
            " 28  pokedex_number     801 non-null    int64  \n",
            " 29  sp_attack          801 non-null    int64  \n",
            " 30  sp_defense         801 non-null    int64  \n",
            " 31  speed              801 non-null    int64  \n",
            " 32  weight_kg          781 non-null    float64\n",
            " 33  generation         801 non-null    int64  \n",
            " 34  is_legendary       801 non-null    int64  \n",
            "dtypes: float64(21), int64(14)\n",
            "memory usage: 219.1 KB\n"
          ],
          "name": "stdout"
        }
      ]
    },
    {
      "cell_type": "code",
      "metadata": {
        "id": "u1MQtxw7OwI2",
        "colab_type": "code",
        "colab": {
          "base_uri": "https://localhost:8080/",
          "height": 235
        },
        "outputId": "57beddc0-7866-44bf-b96c-bf142f4286f7"
      },
      "source": [
        "df3.info()"
      ],
      "execution_count": null,
      "outputs": [
        {
          "output_type": "stream",
          "text": [
            "<class 'pandas.core.frame.DataFrame'>\n",
            "RangeIndex: 801 entries, 0 to 800\n",
            "Data columns (total 6 columns):\n",
            " #   Column         Non-Null Count  Dtype \n",
            "---  ------         --------------  ----- \n",
            " 0   abilities      801 non-null    object\n",
            " 1   classfication  801 non-null    object\n",
            " 2   japanese_name  801 non-null    object\n",
            " 3   name           801 non-null    object\n",
            " 4   type1          801 non-null    object\n",
            " 5   type2          417 non-null    object\n",
            "dtypes: object(6)\n",
            "memory usage: 37.7+ KB\n"
          ],
          "name": "stdout"
        }
      ]
    },
    {
      "cell_type": "code",
      "metadata": {
        "id": "0urLa-OMOzfq",
        "colab_type": "code",
        "colab": {
          "base_uri": "https://localhost:8080/",
          "height": 195
        },
        "outputId": "b90eef07-ba05-48b0-e46c-93c253998e77"
      },
      "source": [
        "df3.head()"
      ],
      "execution_count": null,
      "outputs": [
        {
          "output_type": "execute_result",
          "data": {
            "text/html": [
              "<div>\n",
              "<style scoped>\n",
              "    .dataframe tbody tr th:only-of-type {\n",
              "        vertical-align: middle;\n",
              "    }\n",
              "\n",
              "    .dataframe tbody tr th {\n",
              "        vertical-align: top;\n",
              "    }\n",
              "\n",
              "    .dataframe thead th {\n",
              "        text-align: right;\n",
              "    }\n",
              "</style>\n",
              "<table border=\"1\" class=\"dataframe\">\n",
              "  <thead>\n",
              "    <tr style=\"text-align: right;\">\n",
              "      <th></th>\n",
              "      <th>abilities</th>\n",
              "      <th>classfication</th>\n",
              "      <th>japanese_name</th>\n",
              "      <th>name</th>\n",
              "      <th>type1</th>\n",
              "      <th>type2</th>\n",
              "    </tr>\n",
              "  </thead>\n",
              "  <tbody>\n",
              "    <tr>\n",
              "      <th>0</th>\n",
              "      <td>['Overgrow', 'Chlorophyll']</td>\n",
              "      <td>Seed Pokémon</td>\n",
              "      <td>Fushigidaneフシギダネ</td>\n",
              "      <td>Bulbasaur</td>\n",
              "      <td>grass</td>\n",
              "      <td>poison</td>\n",
              "    </tr>\n",
              "    <tr>\n",
              "      <th>1</th>\n",
              "      <td>['Overgrow', 'Chlorophyll']</td>\n",
              "      <td>Seed Pokémon</td>\n",
              "      <td>Fushigisouフシギソウ</td>\n",
              "      <td>Ivysaur</td>\n",
              "      <td>grass</td>\n",
              "      <td>poison</td>\n",
              "    </tr>\n",
              "    <tr>\n",
              "      <th>2</th>\n",
              "      <td>['Overgrow', 'Chlorophyll']</td>\n",
              "      <td>Seed Pokémon</td>\n",
              "      <td>Fushigibanaフシギバナ</td>\n",
              "      <td>Venusaur</td>\n",
              "      <td>grass</td>\n",
              "      <td>poison</td>\n",
              "    </tr>\n",
              "    <tr>\n",
              "      <th>3</th>\n",
              "      <td>['Blaze', 'Solar Power']</td>\n",
              "      <td>Lizard Pokémon</td>\n",
              "      <td>Hitokageヒトカゲ</td>\n",
              "      <td>Charmander</td>\n",
              "      <td>fire</td>\n",
              "      <td>NaN</td>\n",
              "    </tr>\n",
              "    <tr>\n",
              "      <th>4</th>\n",
              "      <td>['Blaze', 'Solar Power']</td>\n",
              "      <td>Flame Pokémon</td>\n",
              "      <td>Lizardoリザード</td>\n",
              "      <td>Charmeleon</td>\n",
              "      <td>fire</td>\n",
              "      <td>NaN</td>\n",
              "    </tr>\n",
              "  </tbody>\n",
              "</table>\n",
              "</div>"
            ],
            "text/plain": [
              "                     abilities   classfication  ...  type1   type2\n",
              "0  ['Overgrow', 'Chlorophyll']    Seed Pokémon  ...  grass  poison\n",
              "1  ['Overgrow', 'Chlorophyll']    Seed Pokémon  ...  grass  poison\n",
              "2  ['Overgrow', 'Chlorophyll']    Seed Pokémon  ...  grass  poison\n",
              "3     ['Blaze', 'Solar Power']  Lizard Pokémon  ...   fire     NaN\n",
              "4     ['Blaze', 'Solar Power']   Flame Pokémon  ...   fire     NaN\n",
              "\n",
              "[5 rows x 6 columns]"
            ]
          },
          "metadata": {
            "tags": []
          },
          "execution_count": 14
        }
      ]
    },
    {
      "cell_type": "code",
      "metadata": {
        "id": "k0Nfqo4vO2Lv",
        "colab_type": "code",
        "colab": {
          "base_uri": "https://localhost:8080/",
          "height": 84
        },
        "outputId": "78aee6a0-c79f-4486-c5c9-5e84946de2a4"
      },
      "source": [
        "## from preprocessing, use LabelEncoder, we want to encode \n",
        "from sklearn import preprocessing \n",
        "le = preprocessing.LabelEncoder() \n",
        "labels = le.fit_transform(pokemon_df['type1'])\n",
        "print(len(le.classes_)) \n",
        "print(le.classes_)"
      ],
      "execution_count": null,
      "outputs": [
        {
          "output_type": "stream",
          "text": [
            "18\n",
            "['bug' 'dark' 'dragon' 'electric' 'fairy' 'fighting' 'fire' 'flying'\n",
            " 'ghost' 'grass' 'ground' 'ice' 'normal' 'poison' 'psychic' 'rock' 'steel'\n",
            " 'water']\n"
          ],
          "name": "stdout"
        }
      ]
    },
    {
      "cell_type": "code",
      "metadata": {
        "id": "fZYZNQhiO6Hb",
        "colab_type": "code",
        "colab": {
          "base_uri": "https://localhost:8080/",
          "height": 614
        },
        "outputId": "7c5e0524-19aa-4a81-ac7b-e236ccfc1a19"
      },
      "source": [
        "pokemon_df.type1.value_counts().plot.bar()\n",
        "pokemon_df.type1.value_counts() "
      ],
      "execution_count": null,
      "outputs": [
        {
          "output_type": "execute_result",
          "data": {
            "text/plain": [
              "water       114\n",
              "normal      105\n",
              "grass        78\n",
              "bug          72\n",
              "psychic      53\n",
              "fire         52\n",
              "rock         45\n",
              "electric     39\n",
              "ground       32\n",
              "poison       32\n",
              "dark         29\n",
              "fighting     28\n",
              "ghost        27\n",
              "dragon       27\n",
              "steel        24\n",
              "ice          23\n",
              "fairy        18\n",
              "flying        3\n",
              "Name: type1, dtype: int64"
            ]
          },
          "metadata": {
            "tags": []
          },
          "execution_count": 16
        },
        {
          "output_type": "display_data",
          "data": {
            "image/png": "[encoded data removed]",
            "text/plain": [
              "<Figure size 432x288 with 1 Axes>"
            ]
          },
          "metadata": {
            "tags": [],
            "needs_background": "light"
          }
        }
      ]
    },
    {
      "cell_type": "code",
      "metadata": {
        "id": "VNygTplHO8z5",
        "colab_type": "code",
        "colab": {
          "base_uri": "https://localhost:8080/",
          "height": 614
        },
        "outputId": "8153c952-b9df-4131-a5ae-b7908dc0ce65"
      },
      "source": [
        "pokemon_df.type2.value_counts().plot.bar()\n",
        "pokemon_df.type2.value_counts() "
      ],
      "execution_count": null,
      "outputs": [
        {
          "output_type": "execute_result",
          "data": {
            "text/plain": [
              "flying      95\n",
              "poison      34\n",
              "ground      34\n",
              "fairy       29\n",
              "psychic     29\n",
              "fighting    25\n",
              "steel       22\n",
              "dark        21\n",
              "grass       20\n",
              "water       17\n",
              "dragon      17\n",
              "ice         15\n",
              "ghost       14\n",
              "rock        14\n",
              "fire        13\n",
              "electric     9\n",
              "bug          5\n",
              "normal       4\n",
              "Name: type2, dtype: int64"
            ]
          },
          "metadata": {
            "tags": []
          },
          "execution_count": 17
        },
        {
          "output_type": "display_data",
          "data": {
            "image/png": "[encoded data removed]",
            "text/plain": [
              "<Figure size 432x288 with 1 Axes>"
            ]
          },
          "metadata": {
            "tags": [],
            "needs_background": "light"
          }
        }
      ]
    },
    {
      "cell_type": "code",
      "metadata": {
        "id": "ThOxsOwrO_zu",
        "colab_type": "code",
        "colab": {
          "base_uri": "https://localhost:8080/",
          "height": 311
        },
        "outputId": "2a0d7a56-69a7-4da8-f8e9-7a935db548cb"
      },
      "source": [
        "# and the accurate plot, keep in mind not every pokemon has 2 types\n",
        "(pokemon_df.type1.value_counts() + pokemon_df.type2.value_counts()).plot.bar()\n",
        "## and the accurate plot, keep in mind not every pokemon has 2 types\n",
        "(pokemon_df.type1.value_counts() + pokemon_df.type2.value_counts()).plot.bar()"
      ],
      "execution_count": null,
      "outputs": [
        {
          "output_type": "execute_result",
          "data": {
            "text/plain": [
              "<matplotlib.axes._subplots.AxesSubplot at 0x7f620a77fda0>"
            ]
          },
          "metadata": {
            "tags": []
          },
          "execution_count": 18
        },
        {
          "output_type": "display_data",
          "data": {
            "image/png": "[encoded data removed]",
            "text/plain": [
              "<Figure size 432x288 with 1 Axes>"
            ]
          },
          "metadata": {
            "tags": [],
            "needs_background": "light"
          }
        }
      ]
    },
    {
      "cell_type": "code",
      "metadata": {
        "id": "OwJ-MqhdPDAp",
        "colab_type": "code",
        "colab": {}
      },
      "source": [
        "pokemon_df['type2'].fillna(value='None', inplace=True) "
      ],
      "execution_count": null,
      "outputs": []
    },
    {
      "cell_type": "code",
      "metadata": {
        "id": "_AKAyP8sPGVG",
        "colab_type": "code",
        "colab": {
          "base_uri": "https://localhost:8080/",
          "height": 34
        },
        "outputId": "f8647ea5-9f76-4e99-85c1-c4333033b1df"
      },
      "source": [
        "abilitiesList = []\n",
        "for n in range(len(pokemon_df.abilities)):\n",
        "    for ability in pokemon_df.abilities.iloc[n]:\n",
        "        if ability not in abilitiesList:\n",
        "            abilitiesList.append(ability)\n",
        "            \n",
        "print('Number of unique abilities: ', len(abilitiesList))"
      ],
      "execution_count": null,
      "outputs": [
        {
          "output_type": "stream",
          "text": [
            "Number of unique abilities:  56\n"
          ],
          "name": "stdout"
        }
      ]
    },
    {
      "cell_type": "code",
      "metadata": {
        "id": "_tdquBV9PI2v",
        "colab_type": "code",
        "colab": {
          "base_uri": "https://localhost:8080/",
          "height": 438
        },
        "outputId": "e292c6c5-eec2-4107-c979-fb3a02d26d08"
      },
      "source": [
        "data = {\n",
        "    'attack': pokemon_df['attack'],\n",
        "    'defense': pokemon_df['defense'],\n",
        "    'sp_attack': pokemon_df['sp_attack'],\n",
        "    'sp_defense': pokemon_df['sp_defense'],\n",
        "    'type2': pokemon_df.type2,\n",
        "    'type1': pokemon_df['type1']\n",
        "}\n",
        "data = pd.DataFrame(data)\n",
        "## look for columns with 'against' and join them\n",
        "data = pokemon_df.filter(like='against').join(data) \n",
        "\n",
        "X = data.drop('type1', axis=1)\n",
        "y = data['type1']\n",
        "print(list(X))\n",
        "X"
      ],
      "execution_count": null,
      "outputs": [
        {
          "output_type": "stream",
          "text": [
            "['against_bug', 'against_dark', 'against_dragon', 'against_electric', 'against_fairy', 'against_fight', 'against_fire', 'against_flying', 'against_ghost', 'against_grass', 'against_ground', 'against_ice', 'against_normal', 'against_poison', 'against_psychic', 'against_rock', 'against_steel', 'against_water', 'attack', 'defense', 'sp_attack', 'sp_defense', 'type2']\n"
          ],
          "name": "stdout"
        },
        {
          "output_type": "execute_result",
          "data": {
            "text/html": [
              "<div>\n",
              "<style scoped>\n",
              "    .dataframe tbody tr th:only-of-type {\n",
              "        vertical-align: middle;\n",
              "    }\n",
              "\n",
              "    .dataframe tbody tr th {\n",
              "        vertical-align: top;\n",
              "    }\n",
              "\n",
              "    .dataframe thead th {\n",
              "        text-align: right;\n",
              "    }\n",
              "</style>\n",
              "<table border=\"1\" class=\"dataframe\">\n",
              "  <thead>\n",
              "    <tr style=\"text-align: right;\">\n",
              "      <th></th>\n",
              "      <th>against_bug</th>\n",
              "      <th>against_dark</th>\n",
              "      <th>against_dragon</th>\n",
              "      <th>against_electric</th>\n",
              "      <th>against_fairy</th>\n",
              "      <th>against_fight</th>\n",
              "      <th>against_fire</th>\n",
              "      <th>against_flying</th>\n",
              "      <th>against_ghost</th>\n",
              "      <th>against_grass</th>\n",
              "      <th>against_ground</th>\n",
              "      <th>against_ice</th>\n",
              "      <th>against_normal</th>\n",
              "      <th>against_poison</th>\n",
              "      <th>against_psychic</th>\n",
              "      <th>against_rock</th>\n",
              "      <th>against_steel</th>\n",
              "      <th>against_water</th>\n",
              "      <th>attack</th>\n",
              "      <th>defense</th>\n",
              "      <th>sp_attack</th>\n",
              "      <th>sp_defense</th>\n",
              "      <th>type2</th>\n",
              "    </tr>\n",
              "  </thead>\n",
              "  <tbody>\n",
              "    <tr>\n",
              "      <th>0</th>\n",
              "      <td>1.00</td>\n",
              "      <td>1.0</td>\n",
              "      <td>1.0</td>\n",
              "      <td>0.5</td>\n",
              "      <td>0.5</td>\n",
              "      <td>0.5</td>\n",
              "      <td>2.0</td>\n",
              "      <td>2.0</td>\n",
              "      <td>1.0</td>\n",
              "      <td>0.25</td>\n",
              "      <td>1.0</td>\n",
              "      <td>2.0</td>\n",
              "      <td>1.0</td>\n",
              "      <td>1.0</td>\n",
              "      <td>2.0</td>\n",
              "      <td>1.0</td>\n",
              "      <td>1.0</td>\n",
              "      <td>0.5</td>\n",
              "      <td>49</td>\n",
              "      <td>49</td>\n",
              "      <td>65</td>\n",
              "      <td>65</td>\n",
              "      <td>poison</td>\n",
              "    </tr>\n",
              "    <tr>\n",
              "      <th>1</th>\n",
              "      <td>1.00</td>\n",
              "      <td>1.0</td>\n",
              "      <td>1.0</td>\n",
              "      <td>0.5</td>\n",
              "      <td>0.5</td>\n",
              "      <td>0.5</td>\n",
              "      <td>2.0</td>\n",
              "      <td>2.0</td>\n",
              "      <td>1.0</td>\n",
              "      <td>0.25</td>\n",
              "      <td>1.0</td>\n",
              "      <td>2.0</td>\n",
              "      <td>1.0</td>\n",
              "      <td>1.0</td>\n",
              "      <td>2.0</td>\n",
              "      <td>1.0</td>\n",
              "      <td>1.0</td>\n",
              "      <td>0.5</td>\n",
              "      <td>62</td>\n",
              "      <td>63</td>\n",
              "      <td>80</td>\n",
              "      <td>80</td>\n",
              "      <td>poison</td>\n",
              "    </tr>\n",
              "    <tr>\n",
              "      <th>2</th>\n",
              "      <td>1.00</td>\n",
              "      <td>1.0</td>\n",
              "      <td>1.0</td>\n",
              "      <td>0.5</td>\n",
              "      <td>0.5</td>\n",
              "      <td>0.5</td>\n",
              "      <td>2.0</td>\n",
              "      <td>2.0</td>\n",
              "      <td>1.0</td>\n",
              "      <td>0.25</td>\n",
              "      <td>1.0</td>\n",
              "      <td>2.0</td>\n",
              "      <td>1.0</td>\n",
              "      <td>1.0</td>\n",
              "      <td>2.0</td>\n",
              "      <td>1.0</td>\n",
              "      <td>1.0</td>\n",
              "      <td>0.5</td>\n",
              "      <td>100</td>\n",
              "      <td>123</td>\n",
              "      <td>122</td>\n",
              "      <td>120</td>\n",
              "      <td>poison</td>\n",
              "    </tr>\n",
              "    <tr>\n",
              "      <th>3</th>\n",
              "      <td>0.50</td>\n",
              "      <td>1.0</td>\n",
              "      <td>1.0</td>\n",
              "      <td>1.0</td>\n",
              "      <td>0.5</td>\n",
              "      <td>1.0</td>\n",
              "      <td>0.5</td>\n",
              "      <td>1.0</td>\n",
              "      <td>1.0</td>\n",
              "      <td>0.50</td>\n",
              "      <td>2.0</td>\n",
              "      <td>0.5</td>\n",
              "      <td>1.0</td>\n",
              "      <td>1.0</td>\n",
              "      <td>1.0</td>\n",
              "      <td>2.0</td>\n",
              "      <td>0.5</td>\n",
              "      <td>2.0</td>\n",
              "      <td>52</td>\n",
              "      <td>43</td>\n",
              "      <td>60</td>\n",
              "      <td>50</td>\n",
              "      <td>None</td>\n",
              "    </tr>\n",
              "    <tr>\n",
              "      <th>4</th>\n",
              "      <td>0.50</td>\n",
              "      <td>1.0</td>\n",
              "      <td>1.0</td>\n",
              "      <td>1.0</td>\n",
              "      <td>0.5</td>\n",
              "      <td>1.0</td>\n",
              "      <td>0.5</td>\n",
              "      <td>1.0</td>\n",
              "      <td>1.0</td>\n",
              "      <td>0.50</td>\n",
              "      <td>2.0</td>\n",
              "      <td>0.5</td>\n",
              "      <td>1.0</td>\n",
              "      <td>1.0</td>\n",
              "      <td>1.0</td>\n",
              "      <td>2.0</td>\n",
              "      <td>0.5</td>\n",
              "      <td>2.0</td>\n",
              "      <td>64</td>\n",
              "      <td>58</td>\n",
              "      <td>80</td>\n",
              "      <td>65</td>\n",
              "      <td>None</td>\n",
              "    </tr>\n",
              "    <tr>\n",
              "      <th>...</th>\n",
              "      <td>...</td>\n",
              "      <td>...</td>\n",
              "      <td>...</td>\n",
              "      <td>...</td>\n",
              "      <td>...</td>\n",
              "      <td>...</td>\n",
              "      <td>...</td>\n",
              "      <td>...</td>\n",
              "      <td>...</td>\n",
              "      <td>...</td>\n",
              "      <td>...</td>\n",
              "      <td>...</td>\n",
              "      <td>...</td>\n",
              "      <td>...</td>\n",
              "      <td>...</td>\n",
              "      <td>...</td>\n",
              "      <td>...</td>\n",
              "      <td>...</td>\n",
              "      <td>...</td>\n",
              "      <td>...</td>\n",
              "      <td>...</td>\n",
              "      <td>...</td>\n",
              "      <td>...</td>\n",
              "    </tr>\n",
              "    <tr>\n",
              "      <th>796</th>\n",
              "      <td>0.25</td>\n",
              "      <td>1.0</td>\n",
              "      <td>0.5</td>\n",
              "      <td>2.0</td>\n",
              "      <td>0.5</td>\n",
              "      <td>1.0</td>\n",
              "      <td>2.0</td>\n",
              "      <td>0.5</td>\n",
              "      <td>1.0</td>\n",
              "      <td>0.25</td>\n",
              "      <td>0.0</td>\n",
              "      <td>1.0</td>\n",
              "      <td>0.5</td>\n",
              "      <td>0.0</td>\n",
              "      <td>0.5</td>\n",
              "      <td>1.0</td>\n",
              "      <td>0.5</td>\n",
              "      <td>1.0</td>\n",
              "      <td>101</td>\n",
              "      <td>103</td>\n",
              "      <td>107</td>\n",
              "      <td>101</td>\n",
              "      <td>flying</td>\n",
              "    </tr>\n",
              "    <tr>\n",
              "      <th>797</th>\n",
              "      <td>1.00</td>\n",
              "      <td>1.0</td>\n",
              "      <td>0.5</td>\n",
              "      <td>0.5</td>\n",
              "      <td>0.5</td>\n",
              "      <td>2.0</td>\n",
              "      <td>4.0</td>\n",
              "      <td>1.0</td>\n",
              "      <td>1.0</td>\n",
              "      <td>0.25</td>\n",
              "      <td>1.0</td>\n",
              "      <td>1.0</td>\n",
              "      <td>0.5</td>\n",
              "      <td>0.0</td>\n",
              "      <td>0.5</td>\n",
              "      <td>0.5</td>\n",
              "      <td>0.5</td>\n",
              "      <td>0.5</td>\n",
              "      <td>181</td>\n",
              "      <td>131</td>\n",
              "      <td>59</td>\n",
              "      <td>31</td>\n",
              "      <td>steel</td>\n",
              "    </tr>\n",
              "    <tr>\n",
              "      <th>798</th>\n",
              "      <td>2.00</td>\n",
              "      <td>0.5</td>\n",
              "      <td>2.0</td>\n",
              "      <td>0.5</td>\n",
              "      <td>4.0</td>\n",
              "      <td>2.0</td>\n",
              "      <td>0.5</td>\n",
              "      <td>1.0</td>\n",
              "      <td>0.5</td>\n",
              "      <td>0.50</td>\n",
              "      <td>1.0</td>\n",
              "      <td>2.0</td>\n",
              "      <td>1.0</td>\n",
              "      <td>1.0</td>\n",
              "      <td>0.0</td>\n",
              "      <td>1.0</td>\n",
              "      <td>1.0</td>\n",
              "      <td>0.5</td>\n",
              "      <td>101</td>\n",
              "      <td>53</td>\n",
              "      <td>97</td>\n",
              "      <td>53</td>\n",
              "      <td>dragon</td>\n",
              "    </tr>\n",
              "    <tr>\n",
              "      <th>799</th>\n",
              "      <td>2.00</td>\n",
              "      <td>2.0</td>\n",
              "      <td>1.0</td>\n",
              "      <td>1.0</td>\n",
              "      <td>1.0</td>\n",
              "      <td>0.5</td>\n",
              "      <td>1.0</td>\n",
              "      <td>1.0</td>\n",
              "      <td>2.0</td>\n",
              "      <td>1.00</td>\n",
              "      <td>1.0</td>\n",
              "      <td>1.0</td>\n",
              "      <td>1.0</td>\n",
              "      <td>1.0</td>\n",
              "      <td>0.5</td>\n",
              "      <td>1.0</td>\n",
              "      <td>1.0</td>\n",
              "      <td>1.0</td>\n",
              "      <td>107</td>\n",
              "      <td>101</td>\n",
              "      <td>127</td>\n",
              "      <td>89</td>\n",
              "      <td>None</td>\n",
              "    </tr>\n",
              "    <tr>\n",
              "      <th>800</th>\n",
              "      <td>0.25</td>\n",
              "      <td>0.5</td>\n",
              "      <td>0.0</td>\n",
              "      <td>1.0</td>\n",
              "      <td>0.5</td>\n",
              "      <td>1.0</td>\n",
              "      <td>2.0</td>\n",
              "      <td>0.5</td>\n",
              "      <td>1.0</td>\n",
              "      <td>0.50</td>\n",
              "      <td>2.0</td>\n",
              "      <td>0.5</td>\n",
              "      <td>0.5</td>\n",
              "      <td>0.0</td>\n",
              "      <td>0.5</td>\n",
              "      <td>0.5</td>\n",
              "      <td>1.0</td>\n",
              "      <td>1.0</td>\n",
              "      <td>95</td>\n",
              "      <td>115</td>\n",
              "      <td>130</td>\n",
              "      <td>115</td>\n",
              "      <td>fairy</td>\n",
              "    </tr>\n",
              "  </tbody>\n",
              "</table>\n",
              "<p>801 rows × 23 columns</p>\n",
              "</div>"
            ],
            "text/plain": [
              "     against_bug  against_dark  against_dragon  ...  sp_attack  sp_defense   type2\n",
              "0           1.00           1.0             1.0  ...         65          65  poison\n",
              "1           1.00           1.0             1.0  ...         80          80  poison\n",
              "2           1.00           1.0             1.0  ...        122         120  poison\n",
              "3           0.50           1.0             1.0  ...         60          50    None\n",
              "4           0.50           1.0             1.0  ...         80          65    None\n",
              "..           ...           ...             ...  ...        ...         ...     ...\n",
              "796         0.25           1.0             0.5  ...        107         101  flying\n",
              "797         1.00           1.0             0.5  ...         59          31   steel\n",
              "798         2.00           0.5             2.0  ...         97          53  dragon\n",
              "799         2.00           2.0             1.0  ...        127          89    None\n",
              "800         0.25           0.5             0.0  ...        130         115   fairy\n",
              "\n",
              "[801 rows x 23 columns]"
            ]
          },
          "metadata": {
            "tags": []
          },
          "execution_count": 21
        }
      ]
    },
    {
      "cell_type": "code",
      "metadata": {
        "id": "3TFq7NIfPLoJ",
        "colab_type": "code",
        "colab": {
          "base_uri": "https://localhost:8080/",
          "height": 411
        },
        "outputId": "a8efcdfe-c9ab-45d7-a2bc-4fd99e12b7a5"
      },
      "source": [
        "fig = plt.figure(figsize=(7,7))\n",
        "\n",
        "colors = [\"aqua\", \"orange\"]\n",
        "pokeLeg = pokemon_df[pokemon_df['is_legendary'] == True]\n",
        "pokeNon = pokemon_df[pokemon_df['is_legendary'] == False]\n",
        "\n",
        "legDist = [pokeLeg['name'].count(), pokeNon['name'].count()]\n",
        "legPie = plt.pie(legDist,\n",
        "                 labels= ['Legendary', 'Non Legendary'], \n",
        "                 autopct ='%1.1f%%', \n",
        "                 shadow = True,\n",
        "                 colors = colors,\n",
        "                 startangle = 45,\n",
        "                 explode=(0, 0.1))"
      ],
      "execution_count": null,
      "outputs": [
        {
          "output_type": "display_data",
          "data": {
            "image/png": "[encoded data removed]",
            "text/plain": [
              "<Figure size 504x504 with 1 Axes>"
            ]
          },
          "metadata": {
            "tags": []
          }
        }
      ]
    },
    {
      "cell_type": "code",
      "metadata": {
        "id": "skIK-q_5PPKM",
        "colab_type": "code",
        "colab": {
          "base_uri": "https://localhost:8080/",
          "height": 395
        },
        "outputId": "db376436-903c-4731-da10-18991bc8fee6"
      },
      "source": [
        "## correlation between legendary pokemon and non-legendary per generation\n",
        "colors = [\"aqua\", \"orange\"]\n",
        "g = sns.factorplot(\n",
        "    x='generation', \n",
        "    data=pokemon_df,\n",
        "    kind='count', \n",
        "    hue='is_legendary',\n",
        "    palette=colors, \n",
        "    size=5, \n",
        "    aspect=1.5,\n",
        "    legend=False,\n",
        "    ).set_axis_labels('Generation', '# of Pokemon')\n",
        "\n",
        "g.ax.legend(loc='upper center', bbox_to_anchor=(0.5, 1.1),  shadow=True, ncol=2, labels=['NON LEGENDARY','LEGENDARY'])\n",
        "plt.show()"
      ],
      "execution_count": null,
      "outputs": [
        {
          "output_type": "display_data",
          "data": {
            "image/png": "[encoded data removed]",
            "text/plain": [
              "<Figure size 540x360 with 1 Axes>"
            ]
          },
          "metadata": {
            "tags": [],
            "needs_background": "light"
          }
        }
      ]
    },
    {
      "cell_type": "code",
      "metadata": {
        "id": "cdkGSoxCPSMP",
        "colab_type": "code",
        "colab": {}
      },
      "source": [
        "## Not usually a good sign since there is not enough data on what is a legendary\n",
        "## Maybe there's a very strong correlation we can exploit\n",
        "## High attack and defense correlation"
      ],
      "execution_count": null,
      "outputs": []
    },
    {
      "cell_type": "code",
      "metadata": {
        "id": "IarX4KHePVWe",
        "colab_type": "code",
        "colab": {
          "base_uri": "https://localhost:8080/",
          "height": 386
        },
        "outputId": "95ccc3cb-3532-461c-8059-91ce7a514b16"
      },
      "source": [
        "sns.lmplot(x='attack', y='defense', hue='is_legendary', fit_reg=False, data=pokemon_df, markers = ['x', 'o'])"
      ],
      "execution_count": null,
      "outputs": [
        {
          "output_type": "execute_result",
          "data": {
            "text/plain": [
              "<seaborn.axisgrid.FacetGrid at 0x7f62093fe4e0>"
            ]
          },
          "metadata": {
            "tags": []
          },
          "execution_count": 25
        },
        {
          "output_type": "display_data",
          "data": {
            "image/png": "[encoded data removed]",
            "text/plain": [
              "<Figure size 431.5x360 with 1 Axes>"
            ]
          },
          "metadata": {
            "tags": [],
            "needs_background": "light"
          }
        }
      ]
    },
    {
      "cell_type": "code",
      "metadata": {
        "id": "KByaPTMxPXWA",
        "colab_type": "code",
        "colab": {}
      },
      "source": [
        "leg = pokemon_df[pokemon_df['is_legendary'] == True]\n",
        "leg_total = leg['base_total'].mean()\n",
        "non_leg_total = pokemon_df[pokemon_df['is_legendary'] != True]['base_total'].mean()"
      ],
      "execution_count": null,
      "outputs": []
    },
    {
      "cell_type": "code",
      "metadata": {
        "id": "7M5MfkQOPZ8q",
        "colab_type": "code",
        "colab": {
          "base_uri": "https://localhost:8080/",
          "height": 106
        },
        "outputId": "309d45bd-acff-4ac8-99ea-810f5d75c584"
      },
      "source": [
        "pd.DataFrame([leg_total, non_leg_total], index=['Legendary', 'non-Legendary'], columns=['Average Total'])"
      ],
      "execution_count": null,
      "outputs": [
        {
          "output_type": "execute_result",
          "data": {
            "text/html": [
              "<div>\n",
              "<style scoped>\n",
              "    .dataframe tbody tr th:only-of-type {\n",
              "        vertical-align: middle;\n",
              "    }\n",
              "\n",
              "    .dataframe tbody tr th {\n",
              "        vertical-align: top;\n",
              "    }\n",
              "\n",
              "    .dataframe thead th {\n",
              "        text-align: right;\n",
              "    }\n",
              "</style>\n",
              "<table border=\"1\" class=\"dataframe\">\n",
              "  <thead>\n",
              "    <tr style=\"text-align: right;\">\n",
              "      <th></th>\n",
              "      <th>Average Total</th>\n",
              "    </tr>\n",
              "  </thead>\n",
              "  <tbody>\n",
              "    <tr>\n",
              "      <th>Legendary</th>\n",
              "      <td>615.257143</td>\n",
              "    </tr>\n",
              "    <tr>\n",
              "      <th>non-Legendary</th>\n",
              "      <td>410.481532</td>\n",
              "    </tr>\n",
              "  </tbody>\n",
              "</table>\n",
              "</div>"
            ],
            "text/plain": [
              "               Average Total\n",
              "Legendary         615.257143\n",
              "non-Legendary     410.481532"
            ]
          },
          "metadata": {
            "tags": []
          },
          "execution_count": 27
        }
      ]
    },
    {
      "cell_type": "code",
      "metadata": {
        "id": "jMkyue-wPb5W",
        "colab_type": "code",
        "colab": {}
      },
      "source": [
        "isLegendary = pd.get_dummies(pokemon_df['is_legendary'], drop_first=True)\n",
        "lr_df = pokemon_df[['base_total', 'capture_rate']]\n",
        "lr_df = pd.concat([lr_df, isLegendary], axis=1)"
      ],
      "execution_count": null,
      "outputs": []
    },
    {
      "cell_type": "code",
      "metadata": {
        "id": "fIhCAy7rPefB",
        "colab_type": "code",
        "colab": {
          "base_uri": "https://localhost:8080/",
          "height": 195
        },
        "outputId": "21e778e5-2992-4686-d107-55eb3f79c695"
      },
      "source": [
        "lr_df.columns = ['Base Total', 'Catch Rate', 'Is Legendary']\n",
        "lr_df.head()"
      ],
      "execution_count": null,
      "outputs": [
        {
          "output_type": "execute_result",
          "data": {
            "text/html": [
              "<div>\n",
              "<style scoped>\n",
              "    .dataframe tbody tr th:only-of-type {\n",
              "        vertical-align: middle;\n",
              "    }\n",
              "\n",
              "    .dataframe tbody tr th {\n",
              "        vertical-align: top;\n",
              "    }\n",
              "\n",
              "    .dataframe thead th {\n",
              "        text-align: right;\n",
              "    }\n",
              "</style>\n",
              "<table border=\"1\" class=\"dataframe\">\n",
              "  <thead>\n",
              "    <tr style=\"text-align: right;\">\n",
              "      <th></th>\n",
              "      <th>Base Total</th>\n",
              "      <th>Catch Rate</th>\n",
              "      <th>Is Legendary</th>\n",
              "    </tr>\n",
              "  </thead>\n",
              "  <tbody>\n",
              "    <tr>\n",
              "      <th>0</th>\n",
              "      <td>318</td>\n",
              "      <td>45</td>\n",
              "      <td>0</td>\n",
              "    </tr>\n",
              "    <tr>\n",
              "      <th>1</th>\n",
              "      <td>405</td>\n",
              "      <td>45</td>\n",
              "      <td>0</td>\n",
              "    </tr>\n",
              "    <tr>\n",
              "      <th>2</th>\n",
              "      <td>625</td>\n",
              "      <td>45</td>\n",
              "      <td>0</td>\n",
              "    </tr>\n",
              "    <tr>\n",
              "      <th>3</th>\n",
              "      <td>309</td>\n",
              "      <td>45</td>\n",
              "      <td>0</td>\n",
              "    </tr>\n",
              "    <tr>\n",
              "      <th>4</th>\n",
              "      <td>405</td>\n",
              "      <td>45</td>\n",
              "      <td>0</td>\n",
              "    </tr>\n",
              "  </tbody>\n",
              "</table>\n",
              "</div>"
            ],
            "text/plain": [
              "   Base Total  Catch Rate  Is Legendary\n",
              "0         318          45             0\n",
              "1         405          45             0\n",
              "2         625          45             0\n",
              "3         309          45             0\n",
              "4         405          45             0"
            ]
          },
          "metadata": {
            "tags": []
          },
          "execution_count": 29
        }
      ]
    },
    {
      "cell_type": "code",
      "metadata": {
        "id": "7V5zFpkAPgVj",
        "colab_type": "code",
        "colab": {
          "base_uri": "https://localhost:8080/",
          "height": 195
        },
        "outputId": "6b2c2299-95cd-413e-f6f6-f2510c00d753"
      },
      "source": [
        "lr_df.tail()"
      ],
      "execution_count": null,
      "outputs": [
        {
          "output_type": "execute_result",
          "data": {
            "text/html": [
              "<div>\n",
              "<style scoped>\n",
              "    .dataframe tbody tr th:only-of-type {\n",
              "        vertical-align: middle;\n",
              "    }\n",
              "\n",
              "    .dataframe tbody tr th {\n",
              "        vertical-align: top;\n",
              "    }\n",
              "\n",
              "    .dataframe thead th {\n",
              "        text-align: right;\n",
              "    }\n",
              "</style>\n",
              "<table border=\"1\" class=\"dataframe\">\n",
              "  <thead>\n",
              "    <tr style=\"text-align: right;\">\n",
              "      <th></th>\n",
              "      <th>Base Total</th>\n",
              "      <th>Catch Rate</th>\n",
              "      <th>Is Legendary</th>\n",
              "    </tr>\n",
              "  </thead>\n",
              "  <tbody>\n",
              "    <tr>\n",
              "      <th>796</th>\n",
              "      <td>570</td>\n",
              "      <td>25</td>\n",
              "      <td>1</td>\n",
              "    </tr>\n",
              "    <tr>\n",
              "      <th>797</th>\n",
              "      <td>570</td>\n",
              "      <td>255</td>\n",
              "      <td>1</td>\n",
              "    </tr>\n",
              "    <tr>\n",
              "      <th>798</th>\n",
              "      <td>570</td>\n",
              "      <td>15</td>\n",
              "      <td>1</td>\n",
              "    </tr>\n",
              "    <tr>\n",
              "      <th>799</th>\n",
              "      <td>600</td>\n",
              "      <td>3</td>\n",
              "      <td>1</td>\n",
              "    </tr>\n",
              "    <tr>\n",
              "      <th>800</th>\n",
              "      <td>600</td>\n",
              "      <td>3</td>\n",
              "      <td>1</td>\n",
              "    </tr>\n",
              "  </tbody>\n",
              "</table>\n",
              "</div>"
            ],
            "text/plain": [
              "     Base Total  Catch Rate  Is Legendary\n",
              "796         570          25             1\n",
              "797         570         255             1\n",
              "798         570          15             1\n",
              "799         600           3             1\n",
              "800         600           3             1"
            ]
          },
          "metadata": {
            "tags": []
          },
          "execution_count": 30
        }
      ]
    },
    {
      "cell_type": "code",
      "metadata": {
        "id": "FUgifIOTPiAP",
        "colab_type": "code",
        "colab": {}
      },
      "source": [
        "X = lr_df.drop('Is Legendary', axis = 1)\n",
        "y = lr_df['Is Legendary']"
      ],
      "execution_count": null,
      "outputs": []
    },
    {
      "cell_type": "code",
      "metadata": {
        "id": "e-928ZjfPj4U",
        "colab_type": "code",
        "colab": {}
      },
      "source": [
        "#trying to predict the is legendary from base total and catch rate"
      ],
      "execution_count": null,
      "outputs": []
    },
    {
      "cell_type": "markdown",
      "metadata": {
        "id": "2R7HNdoV6gmY",
        "colab_type": "text"
      },
      "source": [
        "# Training and Testing"
      ]
    },
    {
      "cell_type": "code",
      "metadata": {
        "id": "nw01CvVeQyAj",
        "colab_type": "code",
        "colab": {}
      },
      "source": [
        "x_train,x_test,y_train,y_test = train_test_split(X,y,test_size=0.3)"
      ],
      "execution_count": null,
      "outputs": []
    },
    {
      "cell_type": "markdown",
      "metadata": {
        "id": "TlY3NIO27B_L",
        "colab_type": "text"
      },
      "source": [
        "### 1. LightGBM Algorithm on the Dataset\n",
        "\n",
        "\n"
      ]
    },
    {
      "cell_type": "code",
      "metadata": {
        "id": "Cnr9MN81RFfO",
        "colab_type": "code",
        "colab": {}
      },
      "source": [
        "lgb_hps = { 'num_leaves': hp.choice('num_leaves',np.arange(100, 200, 10, dtype=int)),\n",
        "            'max_depth': hp.choice('max_depth',np.arange(5, 16, 1, dtype=int)),\n",
        "            'n_estimators': hp.quniform('n_estimators', 10, 700, 1),\n",
        "            'feature_fraction': hp.uniform('feature_fraction', 0.75, 1.0),\n",
        "            'bagging_fraction': hp.uniform('bagging_fraction', 0.75, 1.0),\n",
        "            'learning_rate': hp.loguniform('learning_rate', -5.0, -2.3),\n",
        "            'lambda_l1': hp.uniform('lambda_l1', 0, 10),\n",
        "            'lambda_l2': hp.uniform('lambda_l2', 0, 10)\n",
        "          }\n",
        "\n",
        "num_leaves_list = [100,110,120,130,140,150,160,170,180,190,200]"
      ],
      "execution_count": null,
      "outputs": []
    },
    {
      "cell_type": "code",
      "metadata": {
        "id": "DsIgm3HARKVv",
        "colab_type": "code",
        "colab": {}
      },
      "source": [
        "accuracy_list_lgbm = []\n",
        "def HPO_lgbm(lgb_hps):\n",
        "    num_round = 50\n",
        "    train_data=lgb.Dataset(x_train,label=y_train)\n",
        "    lgbm=lgb.train(lgb_hps,train_data,num_round)\n",
        "    ypred2=lgbm.predict(x_test)\n",
        "    accuracy_lgbm = roc_auc_score(y_test,ypred2).mean()\n",
        "    accuracy_list_lgbm.append(accuracy_lgbm)\n",
        "    return {'loss': -accuracy_lgbm, 'status': STATUS_OK }"
      ],
      "execution_count": null,
      "outputs": []
    },
    {
      "cell_type": "code",
      "metadata": {
        "id": "9kIYQOYbRoUN",
        "colab_type": "code",
        "colab": {
          "base_uri": "https://localhost:8080/",
          "height": 202
        },
        "outputId": "7cf03f78-a4dd-4d2b-8301-e1faf1f396c6"
      },
      "source": [
        "trials = Trials()\n",
        "best_lgbm = fmin(fn= HPO_lgbm,\n",
        "            space= lgb_hps,\n",
        "            algo= tpe.suggest,\n",
        "            max_evals = 80,\n",
        "            trials = trials\n",
        "            )\n",
        "max_acc_lgbm = max(accuracy_list_lgbm)\n",
        "print(\"Best Hyperparameters for LGBM are: \\n\")\n",
        "best_lgbm"
      ],
      "execution_count": null,
      "outputs": [
        {
          "output_type": "stream",
          "text": [
            "100%|██████████| 80/80 [00:14<00:00,  5.42it/s, best loss: -0.9902714932126696]\n",
            "Best Hyperparameters for LGBM are: \n",
            "\n"
          ],
          "name": "stdout"
        },
        {
          "output_type": "execute_result",
          "data": {
            "text/plain": [
              "{'bagging_fraction': 0.7512763132242419,\n",
              " 'feature_fraction': 0.7899908350005923,\n",
              " 'lambda_l1': 0.002964853075263091,\n",
              " 'lambda_l2': 9.550141726827476,\n",
              " 'learning_rate': 0.05915278197507036,\n",
              " 'max_depth': 5,\n",
              " 'n_estimators': 636.0,\n",
              " 'num_leaves': 8}"
            ]
          },
          "metadata": {
            "tags": []
          },
          "execution_count": 36
        }
      ]
    },
    {
      "cell_type": "markdown",
      "metadata": {
        "id": "3hPorpibky-v",
        "colab_type": "text"
      },
      "source": [
        "##### Hyper-Parameters Vs. Accuracy Graphs"
      ]
    },
    {
      "cell_type": "code",
      "metadata": {
        "id": "GW-DoWTzR-yZ",
        "colab_type": "code",
        "colab": {
          "base_uri": "https://localhost:8080/",
          "height": 731
        },
        "outputId": "e2c7e206-0480-4625-eb4a-4516e21248b9"
      },
      "source": [
        "parameters = ['num_leaves','max_depth','n_estimators','feature_fraction','bagging_fraction','learning_rate','lambda_l1','lambda_l2']\n",
        "f, axes = plt.subplots(nrows=4, ncols=2, figsize=(10,8))\n",
        "f.tight_layout()\n",
        "cmap = plt.cm.jet\n",
        "for i, val in enumerate(parameters):\n",
        "    print(\"Best \" + str(val) + \"   =   \" + str(best_lgbm[val]))\n",
        "    xs = np.array([t['misc']['vals'][val] for t in trials.trials]).ravel()\n",
        "    ys = [-t['result']['loss'] for t in trials.trials]\n",
        "    xs, ys = zip(*sorted(zip(xs, ys)))\n",
        "    ys = np.array(ys)\n",
        "    c=np.array(cmap(float(i)/len(parameters)))\n",
        "    axes[i//2,i%2].scatter(xs, ys, s=20, linewidth=0.01, alpha=0.5, c=c.reshape(1,-1))\n",
        "    axes[i//2,i%2].scatter(best_lgbm[val],max_acc_lgbm,color = \"red\")\n",
        "    axes[i//2,i%2].set_title(val)"
      ],
      "execution_count": null,
      "outputs": [
        {
          "output_type": "stream",
          "text": [
            "Best num_leaves   =   8\n",
            "Best max_depth   =   5\n",
            "Best n_estimators   =   636.0\n",
            "Best feature_fraction   =   0.7899908350005923\n",
            "Best bagging_fraction   =   0.7512763132242419\n",
            "Best learning_rate   =   0.05915278197507036\n",
            "Best lambda_l1   =   0.002964853075263091\n",
            "Best lambda_l2   =   9.550141726827476\n"
          ],
          "name": "stdout"
        },
        {
          "output_type": "display_data",
          "data": {
            "image/png": "[encoded data removed]",
            "text/plain": [
              "<Figure size 720x576 with 8 Axes>"
            ]
          },
          "metadata": {
            "tags": [],
            "needs_background": "light"
          }
        }
      ]
    },
    {
      "cell_type": "code",
      "metadata": {
        "id": "ds4dToCfSDlJ",
        "colab_type": "code",
        "colab": {
          "base_uri": "https://localhost:8080/",
          "height": 67
        },
        "outputId": "608b2dcc-e698-4627-fc42-255114c8bc4f"
      },
      "source": [
        "params = { \n",
        "            'num_leaves': num_leaves_list[best_lgbm['num_leaves']],\n",
        "            'max_depth': best_lgbm['max_depth'],\n",
        "            'n_estimators': best_lgbm['n_estimators'],\n",
        "            'feature_fraction':best_lgbm['feature_fraction'],\n",
        "            'bagging_fraction':best_lgbm['bagging_fraction'],\n",
        "            'learning_rate':best_lgbm['learning_rate'],\n",
        "            'lambda_l1': best_lgbm['lambda_l1'],\n",
        "            'lambda_l2':best_lgbm['lambda_l2']\n",
        "          }\n",
        "train_data=lgb.Dataset(x_train,label=y_train)\n",
        "\n",
        "num_round=100\n",
        "t1=datetime.now()\n",
        "lgbm=lgb.train(params,train_data,num_round)\n",
        "t2=datetime.now()\n",
        "execution_time_lgbm = t2-t1\n",
        "t3 = datetime.now()\n",
        "ypred2=lgbm.predict(x_test)\n",
        "t4 = datetime.now()\n",
        "\n",
        "for i in range(0,len(ypred2)): \n",
        "    if ypred2[i] >=0.5:\n",
        "        ypred2[i] = 1\n",
        "    else:\n",
        "        ypred2[i] = 0\n",
        "accuracy_lgbm = round(accuracy_score(ypred2,y_test),5)\n",
        "print(\"Accuracy score = \",accuracy_lgbm*100,\"%\")\n",
        "print(\"Execution time = \",execution_time_lgbm)\n",
        "print(\"Prediction time = \",t4-t3)\n",
        "lgbm_train_time = t2-t1"
      ],
      "execution_count": null,
      "outputs": [
        {
          "output_type": "stream",
          "text": [
            "Accuracy score =  98.75500000000001 %\n",
            "Execution time =  0:00:00.357571\n",
            "Prediction time =  0:00:00.007701\n"
          ],
          "name": "stdout"
        }
      ]
    },
    {
      "cell_type": "markdown",
      "metadata": {
        "id": "DNSP8HbH7XUZ",
        "colab_type": "text"
      },
      "source": [
        "### 2. CatBoost Algorithm on the Dataset"
      ]
    },
    {
      "cell_type": "markdown",
      "metadata": {
        "id": "K6iF2p2alU22",
        "colab_type": "text"
      },
      "source": [
        "#### HyperParameter Optimization with Hyperopt"
      ]
    },
    {
      "cell_type": "code",
      "metadata": {
        "id": "smDul0b0Sv-N",
        "colab_type": "code",
        "colab": {}
      },
      "source": [
        "cb_hps = {  \n",
        "            'learning_rate':      hp.loguniform('learning_rate', -5.0, -2.3),\n",
        "            'depth':              hp.choice('depth',np.arange(5,16,1,dtype = int)),\n",
        "            'l2_leaf_reg':       hp.quniform('l2_leaf_reg',2, 16, 1),\n",
        "            'random_seed':       hp.choice('random_seed',np.arange(5, 10, 1,dtype=int)),\n",
        "            'colsample_bylevel': hp.quniform('colsample_bylevel',0.3, 0.8, 0.1),\n",
        "            'n_estimators':      hp.choice('n_estimators',np.arange(100,160,10,dtype = int))\n",
        "        }\n",
        "\n",
        "depth_list = [i for i in range(5,16,1)]\n",
        "est_list = [i for i in range(100,160,10)]"
      ],
      "execution_count": null,
      "outputs": []
    },
    {
      "cell_type": "code",
      "metadata": {
        "id": "ynMKaGKkS07-",
        "colab_type": "code",
        "colab": {}
      },
      "source": [
        "accuracy_list_cb = []\n",
        "cat_features = np.where(x_train.dtypes!=float)[0]\n",
        "def HPO_cb(cb_hps):\n",
        "    num_round = 50\n",
        "    model = CatBoostClassifier(**cb_hps,silent = True)\n",
        "    model.fit(x_train,y_train,cat_features = cat_features)\n",
        "    pred = model.predict_proba(x_test)[:,1]\n",
        "    accuracy_cb = roc_auc_score(y_test,pred).mean()\n",
        "    accuracy_list_cb.append(accuracy_cb)\n",
        "    return {'loss': -accuracy_cb, 'status': STATUS_OK }"
      ],
      "execution_count": null,
      "outputs": []
    },
    {
      "cell_type": "code",
      "metadata": {
        "id": "weiTVet8TN3T",
        "colab_type": "code",
        "colab": {
          "base_uri": "https://localhost:8080/",
          "height": 168
        },
        "outputId": "32b0124c-96cb-41ad-b8d2-71f32c906f65"
      },
      "source": [
        "trials = Trials()\n",
        "best_cb = fmin(fn= HPO_cb,\n",
        "            space= cb_hps,\n",
        "            algo= tpe.suggest,\n",
        "            max_evals = 10,\n",
        "            trials = trials\n",
        "            )\n",
        "max_acc_cb = max(accuracy_list_cb)\n",
        "print(\"Best Hyperparameters for CatBoost are: \\n\")\n",
        "best_cb"
      ],
      "execution_count": null,
      "outputs": [
        {
          "output_type": "stream",
          "text": [
            "100%|██████████| 10/10 [00:00<00:00, 10.15it/s, best loss: -0.9742081447963801]\n",
            "Best Hyperparameters for CatBoost are: \n",
            "\n"
          ],
          "name": "stdout"
        },
        {
          "output_type": "execute_result",
          "data": {
            "text/plain": [
              "{'colsample_bylevel': 0.8,\n",
              " 'depth': 2,\n",
              " 'l2_leaf_reg': 6.0,\n",
              " 'learning_rate': 0.011254736771005401,\n",
              " 'n_estimators': 2,\n",
              " 'random_seed': 2}"
            ]
          },
          "metadata": {
            "tags": []
          },
          "execution_count": 41
        }
      ]
    },
    {
      "cell_type": "markdown",
      "metadata": {
        "id": "JlBjeaUTl2f6",
        "colab_type": "text"
      },
      "source": [
        "##### Hyper-Parameters Vs. Accuracy Graphs"
      ]
    },
    {
      "cell_type": "code",
      "metadata": {
        "id": "s08fshtETY48",
        "colab_type": "code",
        "colab": {
          "base_uri": "https://localhost:8080/",
          "height": 698
        },
        "outputId": "67b8c692-721f-4e04-9771-685a1106ca5d"
      },
      "source": [
        "parameters = ['n_estimators','random_seed','learning_rate','depth','l2_leaf_reg','colsample_bylevel']\n",
        "f, axes = plt.subplots(nrows=3, ncols=2, figsize=(15,8))\n",
        "f.tight_layout()\n",
        "cmap = plt.cm.jet\n",
        "for i, val in enumerate(parameters):\n",
        "    if val == 'depth':\n",
        "      best_cb[val] = depth_list[best_cb[val]]\n",
        "    elif val == 'n_estimators':\n",
        "      best_cb[val] = est_list[best_cb['n_estimators']]\n",
        "    elif val == 'random_seed':\n",
        "      best_cb[val]+=5\n",
        "    print(\"Best \" + str(val) + \"   =   \" + str(best_cb[val]))\n",
        "    xs = np.array([t['misc']['vals'][val] for t in trials.trials]).ravel()\n",
        "    ys = [-t['result']['loss'] for t in trials.trials]\n",
        "    xs, ys = zip(*sorted(zip(xs, ys)))\n",
        "    ys = np.array(ys)\n",
        "    c=np.array(cmap(float(i)/len(parameters)))\n",
        "    axes[i//2,i%2].scatter(xs, ys, s=20, linewidth=0.01, alpha=0.5, c=c.reshape(1,-1))\n",
        "    axes[i//2,i%2].scatter(best_cb[val],max_acc_cb,color = \"red\")\n",
        "    axes[i//2,i%2].set_title(val)"
      ],
      "execution_count": null,
      "outputs": [
        {
          "output_type": "stream",
          "text": [
            "Best n_estimators   =   120\n",
            "Best random_seed   =   7\n",
            "Best learning_rate   =   0.011254736771005401\n",
            "Best depth   =   7\n",
            "Best l2_leaf_reg   =   6.0\n",
            "Best colsample_bylevel   =   0.8\n"
          ],
          "name": "stdout"
        },
        {
          "output_type": "display_data",
          "data": {
            "image/png": "[encoded data removed]",
            "text/plain": [
              "<Figure size 1080x576 with 6 Axes>"
            ]
          },
          "metadata": {
            "tags": [],
            "needs_background": "light"
          }
        }
      ]
    },
    {
      "cell_type": "markdown",
      "metadata": {
        "id": "FXzVB0Ual_is",
        "colab_type": "text"
      },
      "source": [
        "#### Actual Training on CatBoost with chosen HPs"
      ]
    },
    {
      "cell_type": "code",
      "metadata": {
        "id": "vLbh7HwrTlIy",
        "colab_type": "code",
        "colab": {
          "base_uri": "https://localhost:8080/",
          "height": 67
        },
        "outputId": "65badfc5-d2f3-4af9-81c1-0ad73257c7f1"
      },
      "source": [
        "cat_features = np.where(x_train.dtypes!=float)[0]\n",
        "model = CatBoostClassifier(      \n",
        "                                  n_estimators = best_cb['n_estimators'],\n",
        "                                  colsample_bylevel = best_cb['colsample_bylevel'],\n",
        "                                  learning_rate = best_cb['learning_rate'],\n",
        "                                  l2_leaf_reg = best_cb['l2_leaf_reg'], \n",
        "                                  random_seed = best_cb['random_seed'],\n",
        "                                  depth = best_cb['depth'],\n",
        "                                  silent = True\n",
        "                           )\n",
        "t1=datetime.now()\n",
        "model.fit(x_train,y_train,cat_features = cat_features)\n",
        "t2=datetime.now()\n",
        "execution_time_cat_boost = t2-t1\n",
        "t3 = datetime.now()\n",
        "pred = model.predict_proba(x_test)[:,1]\n",
        "t4 = datetime.now()\n",
        "accuracy_cat_boost = round(roc_auc_score(y_test,pred),5)\n",
        "print(\"Accuracy score = \",accuracy_cat_boost*100,\"%\")\n",
        "print(\"Execution time = \",execution_time_cat_boost)\n",
        "print(\"Prediction time = \",t4-t3)\n",
        "cat_boost_train_time = t2-t1"
      ],
      "execution_count": null,
      "outputs": [
        {
          "output_type": "stream",
          "text": [
            "Accuracy score =  97.421 %\n",
            "Execution time =  0:00:00.106610\n",
            "Prediction time =  0:00:00.000975\n"
          ],
          "name": "stdout"
        }
      ]
    },
    {
      "cell_type": "markdown",
      "metadata": {
        "id": "jv5__OWn7jKC",
        "colab_type": "text"
      },
      "source": [
        "### 3. XGBoost Algorithm on the Dataset"
      ]
    },
    {
      "cell_type": "markdown",
      "metadata": {
        "id": "ip1Tn2MAmYeA",
        "colab_type": "text"
      },
      "source": [
        "#### HyperParameter Optimization with Hyperopt"
      ]
    },
    {
      "cell_type": "code",
      "metadata": {
        "id": "Wb_3p8MwUBSy",
        "colab_type": "code",
        "colab": {}
      },
      "source": [
        "xgb_hps = {  \n",
        "            'learning_rate':     hp.loguniform('learning_rate', -5.0, -2.3),\n",
        "            'max_depth':         hp.choice('max_depth',np.arange(5,16,1,dtype = int)),\n",
        "            'lambda':            hp.quniform('lambda',2, 16, 1),\n",
        "            'subsample':        hp.quniform('subsample',0.1,1.0,0.1),\n",
        "            'colsample_bytree': hp.quniform('colsample_bytree',0.3, 0.8, 0.1),\n",
        "            'min_split_loss' : hp.quniform('min_split_loss',0.1,2.0,0.1)\n",
        "        }\n",
        "\n",
        "depth_list = [i for i in range(5,16,1)]"
      ],
      "execution_count": null,
      "outputs": []
    },
    {
      "cell_type": "code",
      "metadata": {
        "id": "JB0qosvAUEwy",
        "colab_type": "code",
        "colab": {}
      },
      "source": [
        "accuracy_list_xgb = []\n",
        "def HPO_xgb(xgb_hps):\n",
        "    model = model = XGBClassifier(**xgb_hps)\n",
        "    model.fit(x_train,y_train)\n",
        "    y_pred = model.predict(x_test)\n",
        "    accuracy_xgb = accuracy_score(y_pred,y_test).mean()\n",
        "    accuracy_list_xgb.append(accuracy_xgb)\n",
        "    return {'loss': -accuracy_xgb, 'status': STATUS_OK }"
      ],
      "execution_count": null,
      "outputs": []
    },
    {
      "cell_type": "code",
      "metadata": {
        "id": "FYXGSmkzUTOd",
        "colab_type": "code",
        "colab": {
          "base_uri": "https://localhost:8080/",
          "height": 168
        },
        "outputId": "ae5946b5-b678-4dd3-cdb4-40575ea92acd"
      },
      "source": [
        "trials = Trials()\n",
        "best_xgb = fmin(fn= HPO_xgb,\n",
        "            space= xgb_hps,\n",
        "            algo= tpe.suggest,\n",
        "            max_evals = 80,\n",
        "            trials = trials\n",
        "            )\n",
        "max_acc_xgb = max(accuracy_list_xgb)\n",
        "print(\"Best Hyperparameters for XGBoost are: \\n\")\n",
        "best_xgb"
      ],
      "execution_count": null,
      "outputs": [
        {
          "output_type": "stream",
          "text": [
            "100%|██████████| 80/80 [00:03<00:00, 20.68it/s, best loss: -0.995850622406639]\n",
            "Best Hyperparameters for XGBoost are: \n",
            "\n"
          ],
          "name": "stdout"
        },
        {
          "output_type": "execute_result",
          "data": {
            "text/plain": [
              "{'colsample_bytree': 0.30000000000000004,\n",
              " 'lambda': 2.0,\n",
              " 'learning_rate': 0.029710330752237578,\n",
              " 'max_depth': 7,\n",
              " 'min_split_loss': 1.9000000000000001,\n",
              " 'subsample': 0.9}"
            ]
          },
          "metadata": {
            "tags": []
          },
          "execution_count": 46
        }
      ]
    },
    {
      "cell_type": "markdown",
      "metadata": {
        "id": "MA4SqpWxmc5O",
        "colab_type": "text"
      },
      "source": [
        "##### Hyper-Parameters Vs. Accuracy Graphs"
      ]
    },
    {
      "cell_type": "code",
      "metadata": {
        "id": "-TqPq-8RUbPu",
        "colab_type": "code",
        "colab": {
          "base_uri": "https://localhost:8080/",
          "height": 698
        },
        "outputId": "6946f676-4d40-45c1-f10e-866becd4950d"
      },
      "source": [
        "parameters = ['max_depth','subsample','learning_rate','min_split_loss','lambda','colsample_bytree']\n",
        "f, axes = plt.subplots(nrows=3, ncols=2, figsize=(15,8))\n",
        "f.tight_layout()\n",
        "cmap = plt.cm.jet\n",
        "for i, val in enumerate(parameters):\n",
        "    if val == 'max_depth':\n",
        "      best_xgb[val] = depth_list[best_xgb[val]]\n",
        "    print(\"Best \" + str(val) + \"   =   \" + str(best_xgb[val]))\n",
        "    xs = np.array([t['misc']['vals'][val] for t in trials.trials]).ravel()\n",
        "    ys = [-t['result']['loss'] for t in trials.trials]\n",
        "    xs, ys = zip(*sorted(zip(xs, ys)))\n",
        "    ys = np.array(ys)\n",
        "    c=np.array(cmap(float(i)/len(parameters)))\n",
        "    axes[i//2,i%2].scatter(xs, ys, s=20, linewidth=0.01, alpha=0.5, c=c.reshape(1,-1))\n",
        "    axes[i//2,i%2].scatter(best_xgb[val],max_acc_xgb,color = \"red\")\n",
        "    axes[i//2,i%2].set_title(val)"
      ],
      "execution_count": null,
      "outputs": [
        {
          "output_type": "stream",
          "text": [
            "Best max_depth   =   12\n",
            "Best subsample   =   0.9\n",
            "Best learning_rate   =   0.029710330752237578\n",
            "Best min_split_loss   =   1.9000000000000001\n",
            "Best lambda   =   2.0\n",
            "Best colsample_bytree   =   0.30000000000000004\n"
          ],
          "name": "stdout"
        },
        {
          "output_type": "display_data",
          "data": {
            "image/png": "[encoded data removed]",
            "text/plain": [
              "<Figure size 1080x576 with 6 Axes>"
            ]
          },
          "metadata": {
            "tags": [],
            "needs_background": "light"
          }
        }
      ]
    },
    {
      "cell_type": "code",
      "metadata": {
        "id": "rkQyuiceUhW2",
        "colab_type": "code",
        "colab": {
          "base_uri": "https://localhost:8080/",
          "height": 67
        },
        "outputId": "2164b392-ed55-4074-fb46-bcf1dc42772b"
      },
      "source": [
        "model = XGBClassifier(**best_xgb)\n",
        "t1=datetime.now()\n",
        "model.fit(x_train,y_train)\n",
        "t2=datetime.now()\n",
        "execution_time_xgb = t2-t1\n",
        "t3 = datetime.now()\n",
        "y_pred = model.predict(x_test)\n",
        "t4 = datetime.now()\n",
        "predictions = [round(value) for value in y_pred]\n",
        "accuracy_xgb = round(accuracy_score(y_pred,y_test),5)\n",
        "print(\"Accuracy score = \",accuracy_xgb*100,\"%\")\n",
        "print(\"Execution time = \",execution_time_xgb)\n",
        "print(\"Prediction time = \",t4-t3)\n",
        "xgb_train_time = t2-t1"
      ],
      "execution_count": null,
      "outputs": [
        {
          "output_type": "stream",
          "text": [
            "Accuracy score =  99.58500000000001 %\n",
            "Execution time =  0:00:00.033714\n",
            "Prediction time =  0:00:00.001709\n"
          ],
          "name": "stdout"
        }
      ]
    },
    {
      "cell_type": "markdown",
      "metadata": {
        "id": "jTyLq6Df7ni6",
        "colab_type": "text"
      },
      "source": [
        "# Results and Plots"
      ]
    },
    {
      "cell_type": "markdown",
      "metadata": {
        "id": "b_s4s2So72Ya",
        "colab_type": "text"
      },
      "source": [
        "### 1. Accuracy Plot"
      ]
    },
    {
      "cell_type": "code",
      "metadata": {
        "id": "U0tiklc5U8T5",
        "colab_type": "code",
        "colab": {
          "base_uri": "https://localhost:8080/",
          "height": 510
        },
        "outputId": "6a28db3a-7ec3-4da3-8135-75fa99b28fb7"
      },
      "source": [
        "import matplotlib.pyplot as plt\n",
        "fig = plt.figure(figsize = (6,6))\n",
        "ax = fig.add_axes([0,0,1,1])\n",
        "algorithms = ['LightGBM','XGBoost','CatBoost']\n",
        "accuracy = [accuracy_lgbm*100, accuracy_xgb*100,accuracy_cat_boost*100]\n",
        "g = ax.bar(algorithms,accuracy)\n",
        "plt.title(\"Accuracy Plot\")\n",
        "plt.xlabel(\"Algorithms on the Categorical Dataset\")\n",
        "plt.ylabel(\"Accuracy in %\")\n",
        "bar_label = [accuracy_lgbm*100, accuracy_xgb*100,accuracy_cat_boost*100]\n",
        "def autolabel(rects):\n",
        "    for idx,rect in enumerate(g):\n",
        "        height = rect.get_height()\n",
        "        ax.text(rect.get_x() + rect.get_width()/2., 1.0*height,\n",
        "                bar_label[idx],\n",
        "                ha='center', va='bottom', rotation=0)\n",
        "\n",
        "autolabel(g)\n",
        "plt.show()"
      ],
      "execution_count": null,
      "outputs": [
        {
          "output_type": "display_data",
          "data": {
            "image/png": "[encoded data removed]",
            "text/plain": [
              "<Figure size 432x432 with 1 Axes>"
            ]
          },
          "metadata": {
            "tags": [],
            "needs_background": "light"
          }
        }
      ]
    },
    {
      "cell_type": "markdown",
      "metadata": {
        "id": "KoMnhcEI78MK",
        "colab_type": "text"
      },
      "source": [
        "### 2. Training Time  Plot"
      ]
    },
    {
      "cell_type": "code",
      "metadata": {
        "id": "sgh6737QVwWW",
        "colab_type": "code",
        "colab": {
          "base_uri": "https://localhost:8080/",
          "height": 510
        },
        "outputId": "d3ea582b-1ced-4548-9f08-68170759569e"
      },
      "source": [
        "lg = float(str(lgbm_train_time)[5:])\n",
        "cb = float(str(cat_boost_train_time)[5:])\n",
        "xgb = float(str(xgb_train_time)[5:])\n",
        "fig1 = plt.figure(figsize = (6,6))\n",
        "ay = fig1.add_axes([0,0,1,1])\n",
        "algorithms = ['LightGBM','XGBoost','CatBoost']\n",
        "training_time = [lg,xgb,cb]\n",
        "g1 = ay.bar(algorithms,training_time)\n",
        "plt.title(\"Training Time Plot\")\n",
        "plt.xlabel(\"Algorithms on the Categorical Dataset\")\n",
        "plt.ylabel(\"Time Taken in Seconds\")\n",
        "bar_label = training_time\n",
        "def autolabel1(rects):\n",
        "    for idx,rect in enumerate(g1):\n",
        "        height = rect.get_height()\n",
        "        ay.text(rect.get_x() + rect.get_width()/2., 1.0*height,\n",
        "                bar_label[idx],\n",
        "                ha='center', va='bottom', rotation=0)\n",
        "\n",
        "autolabel1(g1)\n",
        "plt.show()"
      ],
      "execution_count": null,
      "outputs": [
        {
          "output_type": "display_data",
          "data": {
            "image/png": "[encoded data removed]",
            "text/plain": [
              "<Figure size 432x432 with 1 Axes>"
            ]
          },
          "metadata": {
            "tags": [],
            "needs_background": "light"
          }
        }
      ]
    },
    {
      "cell_type": "code",
      "metadata": {
        "id": "-BtLimqKVxG3",
        "colab_type": "code",
        "colab": {}
      },
      "source": [
        ""
      ],
      "execution_count": null,
      "outputs": []
    }
  ]
}

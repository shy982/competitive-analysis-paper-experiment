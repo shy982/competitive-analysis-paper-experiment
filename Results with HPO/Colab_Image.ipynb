{
  "nbformat": 4,
  "nbformat_minor": 0,
  "metadata": {
    "colab": {
      "name": "Copy of Copy of ImgData_BoostingAlgo.ipynb",
      "provenance": [],
      "collapsed_sections": []
    },
    "kernelspec": {
      "name": "python3",
      "display_name": "Python 3"
    }
  },
  "cells": [
    {
      "cell_type": "markdown",
      "metadata": {
        "id": "PY7rMtaApkcm",
        "colab_type": "text"
      },
      "source": [
        "# **Performance of Gradient Boosting Algorithms on a Image Dataset**"
      ]
    },
    {
      "cell_type": "markdown",
      "metadata": {
        "id": "15kpfM_tpoSQ",
        "colab_type": "text"
      },
      "source": [
        "# This Notebook contains the comparative analysis of 3 Boosting Algorithms -\n",
        "XGBoost, CatBoost and LightGBM trained and tested on a Image Dataset"
      ]
    },
    {
      "cell_type": "code",
      "metadata": {
        "id": "i-paFoG9muPl",
        "colab_type": "code",
        "colab": {
          "base_uri": "https://localhost:8080/",
          "height": 34
        },
        "outputId": "2a3b3d83-3cb4-4bd9-c08b-8ae48eb10068"
      },
      "source": [
        "!pip install xgboost --quiet\n",
        "!pip install catboost --quiet\n",
        "!pip install lightgbm --quiet\n",
        "!pip install hyperopt --quiet"
      ],
      "execution_count": null,
      "outputs": [
        {
          "output_type": "stream",
          "text": [
            "\u001b[K     |████████████████████████████████| 64.8MB 61kB/s \n",
            "\u001b[?25h"
          ],
          "name": "stdout"
        }
      ]
    },
    {
      "cell_type": "code",
      "metadata": {
        "id": "n0MYZzRwkvX6",
        "colab_type": "code",
        "colab": {
          "base_uri": "https://localhost:8080/",
          "height": 88
        },
        "outputId": "d2fc4fdf-f25e-44df-8f7e-64984b092283"
      },
      "source": [
        "from keras.datasets import cifar10\n",
        "from sklearn import metrics\n",
        "import catboost as ctb\n",
        "from sklearn.model_selection import cross_val_score    \n",
        "\n",
        "import time\n",
        "start_time = time.time()\n",
        "import numpy as np\n",
        "import pandas as pd\n",
        "#import sys\n",
        "import os\n",
        "from datetime import datetime\n",
        "from sklearn.model_selection import train_test_split\n",
        "from sklearn.metrics import accuracy_score \n",
        "import lightgbm as lgb\n",
        "import matplotlib as mpl\n",
        "import seaborn as sns\n",
        "from matplotlib import pyplot as plt\n",
        "from sklearn.metrics import roc_auc_score\n",
        "from catboost import Pool,CatBoostClassifier\n",
        "from xgboost import XGBClassifier\n",
        "from sklearn.model_selection import StratifiedKFold\n",
        "from sklearn.model_selection import cross_val_score\n",
        "\n",
        "from hyperopt import hp, fmin, tpe, STATUS_OK, Trials"
      ],
      "execution_count": null,
      "outputs": [
        {
          "output_type": "stream",
          "text": [
            "Using TensorFlow backend.\n",
            "/usr/local/lib/python3.6/dist-packages/statsmodels/tools/_testing.py:19: FutureWarning: pandas.util.testing is deprecated. Use the functions in the public API at pandas.testing instead.\n",
            "  import pandas.util.testing as tm\n"
          ],
          "name": "stderr"
        }
      ]
    },
    {
      "cell_type": "code",
      "metadata": {
        "id": "m-_NqmePRxxG",
        "colab_type": "code",
        "colab": {}
      },
      "source": [
        "import keras\n",
        "# from keras.datasets import cifar10\n",
        "from keras.preprocessing.image import ImageDataGenerator\n",
        "from keras.models import Sequential\n",
        "from keras.layers import Dense, Dropout, Activation, Flatten\n",
        "from keras.layers import Conv2D, MaxPooling2D\n",
        "from keras import backend as K\n",
        "import numpy as np\n",
        "import pickle\n",
        "import sys\n",
        "import os\n",
        "\n",
        "#\n",
        "# TAKEN FROM https://keras.io/examples/cifar10_cnn/\n",
        "# but with load_data() pulled out to work with your own cifar data set\n",
        "#\n",
        "\n",
        "def load_batch(fpath, label_key='labels'):\n",
        "    \"\"\"Internal utility for parsing CIFAR data.\n",
        "    # Arguments\n",
        "        fpath: path the file to parse.\n",
        "        label_key: key for label data in the retrieve\n",
        "            dictionary.\n",
        "    # Returns\n",
        "        A tuple `(data, labels)`.\n",
        "    \"\"\"\n",
        "    with open(fpath, 'rb') as f:\n",
        "        if sys.version_info < (3,):\n",
        "            d = pickle.load(f)\n",
        "        else:\n",
        "            d = pickle.load(f, encoding='bytes')\n",
        "            # decode utf8\n",
        "            d_decoded = {}\n",
        "            for k, v in d.items():\n",
        "                d_decoded[k.decode('utf8')] = v\n",
        "            d = d_decoded\n",
        "    data = d['data']\n",
        "    labels = d[label_key]\n",
        "\n",
        "    data = data.reshape(data.shape[0], 3, 32, 32)\n",
        "    return data, labels\n",
        "\n",
        "\n",
        "def load_data():\n",
        "    \"\"\"Loads CIFAR10 dataset.\n",
        "    # Returns\n",
        "        Tuple of Numpy arrays: `(x_train, y_train), (x_test, y_test)`.\n",
        "    \"\"\"\n",
        "    path = '/content/drive/My Drive/IBM/cifar-10-batches-py'\n",
        "\n",
        "    num_train_samples = 50000\n",
        "\n",
        "    x_train_local = np.empty((num_train_samples, 3, 32, 32), dtype='uint8')\n",
        "    y_train_local = np.empty((num_train_samples,), dtype='uint8')\n",
        "\n",
        "    for i in range(1,1):\n",
        "        fpath = os.path.join(path, 'data_batch_' + str(i))\n",
        "        (x_train_local[(i - 1) * 10000: i * 10000, :, :, :],\n",
        "         y_train_local[(i - 1) * 10000: i * 10000]) = load_batch(fpath)\n",
        "\n",
        "    fpath = os.path.join(path, 'test_batch')\n",
        "    x_test_local, y_test_local = load_batch(fpath)\n",
        "\n",
        "    y_train_local = np.reshape(y_train_local, (len(y_train_local), 1))\n",
        "    y_test_local = np.reshape(y_test_local, (len(y_test_local), 1))\n",
        "\n",
        "    if K.image_data_format() == 'channels_last':\n",
        "        x_train_local = x_train_local.transpose(0, 2, 3, 1)\n",
        "        x_test_local = x_test_local.transpose(0, 2, 3, 1)\n",
        "\n",
        "    return (x_train_local, y_train_local), (x_test_local, y_test_local)\n",
        "\n",
        "\n",
        "batch_size = 32\n",
        "num_classes = 10\n",
        "epochs = 100\n",
        "data_augmentation = True\n",
        "num_predictions = 20\n",
        "save_dir = os.path.join(os.getcwd(), 'saved_models')\n",
        "model_name = 'keras_cifar10_trained_model.h5'"
      ],
      "execution_count": null,
      "outputs": []
    },
    {
      "cell_type": "code",
      "metadata": {
        "id": "lETAqMFrk8Jw",
        "colab_type": "code",
        "colab": {
          "base_uri": "https://localhost:8080/",
          "height": 51
        },
        "outputId": "0f533a10-4987-4baa-8bf0-d827e1b6966c"
      },
      "source": [
        "# data: shuffled and split between train and test sets\n",
        "(X_train, y_train), (X_test, y_test) = cifar10.load_data()"
      ],
      "execution_count": null,
      "outputs": [
        {
          "output_type": "stream",
          "text": [
            "Downloading data from https://www.cs.toronto.edu/~kriz/cifar-10-python.tar.gz\n",
            "170500096/170498071 [==============================] - 11s 0us/step\n"
          ],
          "name": "stdout"
        }
      ]
    },
    {
      "cell_type": "markdown",
      "metadata": {
        "id": "EhkXraBPp2Z-",
        "colab_type": "text"
      },
      "source": [
        "# **Preprocess the data**"
      ]
    },
    {
      "cell_type": "code",
      "metadata": {
        "id": "cdsCTRW7Gj2W",
        "colab_type": "code",
        "colab": {}
      },
      "source": [
        "X_train = X_train[:10000] ### Slicing to the required size #####\n",
        "y_train = y_train[:10000]\n",
        "X_test = X_test[:200]\n",
        "y_test = y_test[:200]"
      ],
      "execution_count": null,
      "outputs": []
    },
    {
      "cell_type": "code",
      "metadata": {
        "id": "Isii9wXeGmHx",
        "colab_type": "code",
        "colab": {
          "base_uri": "https://localhost:8080/",
          "height": 34
        },
        "outputId": "9d66e888-d0d7-48cb-b14a-a72ef8101da6"
      },
      "source": [
        "X_train.shape"
      ],
      "execution_count": null,
      "outputs": [
        {
          "output_type": "execute_result",
          "data": {
            "text/plain": [
              "(10000, 32, 32, 3)"
            ]
          },
          "metadata": {
            "tags": []
          },
          "execution_count": 6
        }
      ]
    },
    {
      "cell_type": "code",
      "metadata": {
        "id": "0XDxQM74GmkK",
        "colab_type": "code",
        "colab": {
          "base_uri": "https://localhost:8080/",
          "height": 34
        },
        "outputId": "94e713ab-efc6-4c72-b1c1-b79ae3b26b0e"
      },
      "source": [
        "X_test.shape"
      ],
      "execution_count": null,
      "outputs": [
        {
          "output_type": "execute_result",
          "data": {
            "text/plain": [
              "(200, 32, 32, 3)"
            ]
          },
          "metadata": {
            "tags": []
          },
          "execution_count": 7
        }
      ]
    },
    {
      "cell_type": "code",
      "metadata": {
        "id": "M8xV3-kSGrQ8",
        "colab_type": "code",
        "colab": {
          "base_uri": "https://localhost:8080/",
          "height": 136
        },
        "outputId": "1e9458e8-2446-4cdb-f4e1-2888ac873e2d"
      },
      "source": [
        "y_train"
      ],
      "execution_count": null,
      "outputs": [
        {
          "output_type": "execute_result",
          "data": {
            "text/plain": [
              "array([[6],\n",
              "       [9],\n",
              "       [9],\n",
              "       ...,\n",
              "       [1],\n",
              "       [1],\n",
              "       [5]], dtype=uint8)"
            ]
          },
          "metadata": {
            "tags": []
          },
          "execution_count": 8
        }
      ]
    },
    {
      "cell_type": "code",
      "metadata": {
        "id": "pLD3Cekkk_rd",
        "colab_type": "code",
        "colab": {}
      },
      "source": [
        " # X_train is 50000 rows of 3x32x32 values --> reshaped in 50000 x 3072\n",
        "RESHAPED = 3072\n",
        "\n",
        "X_train = X_train.reshape(10000, RESHAPED)\n",
        "X_test = X_test.reshape(200, RESHAPED)\n",
        "X_train = X_train.astype('float32')\n",
        "X_test = X_test.astype('float32')\n",
        "\n",
        "y_train = y_train.flatten()\n",
        "y_test = y_test.flatten()"
      ],
      "execution_count": null,
      "outputs": []
    },
    {
      "cell_type": "code",
      "metadata": {
        "id": "1gUMoIO_lG-O",
        "colab_type": "code",
        "colab": {
          "base_uri": "https://localhost:8080/",
          "height": 51
        },
        "outputId": "e60386d9-f6fc-437a-d293-ace9b7231cdf"
      },
      "source": [
        "  # normalize the datasets\n",
        "X_train /= 255.\n",
        "X_test /= 255.\n",
        "\n",
        "print(X_train.shape[0], 'train samples')\n",
        "print(X_test.shape[0], 'test samples')"
      ],
      "execution_count": null,
      "outputs": [
        {
          "output_type": "stream",
          "text": [
            "10000 train samples\n",
            "200 test samples\n"
          ],
          "name": "stdout"
        }
      ]
    },
    {
      "cell_type": "code",
      "metadata": {
        "id": "iY0gdLv0qg-t",
        "colab_type": "code",
        "colab": {}
      },
      "source": [
        "from sklearn import preprocessing\n",
        "def multiclass_roc_auc_score(y_test, pred, average=\"macro\"):\n",
        "    lb = preprocessing.LabelBinarizer() \n",
        "    lb.fit(y_test)\n",
        "    y_test = lb.transform(y_test)\n",
        "    pred = lb.transform(pred)\n",
        "    return roc_auc_score(y_test, pred, average=average)"
      ],
      "execution_count": null,
      "outputs": []
    },
    {
      "cell_type": "markdown",
      "metadata": {
        "id": "0BiF0Umdp9q0",
        "colab_type": "text"
      },
      "source": [
        "# **Fit CatBoost model to the data**"
      ]
    },
    {
      "cell_type": "code",
      "metadata": {
        "id": "Gur4wMptoo9-",
        "colab_type": "code",
        "colab": {}
      },
      "source": [
        "cb_hps = {  \n",
        "            'learning_rate':      hp.loguniform('learning_rate', -5.0, -2.3),\n",
        "            'depth':              hp.choice('depth',np.arange(5,16,1,dtype = int)),\n",
        "            'l2_leaf_reg':       hp.quniform('l2_leaf_reg',2, 16, 1),\n",
        "            'random_seed':       hp.choice('random_seed',np.arange(5, 10, 1,dtype=int)),\n",
        "            'colsample_bylevel': hp.quniform('colsample_bylevel',0.3, 0.8, 0.1),\n",
        "            'n_estimators':      hp.choice('n_estimators',np.arange(100,160,10,dtype = int))\n",
        "        }\n",
        "\n",
        "depth_list = [i for i in range(5,16,1)]\n",
        "est_list = [i for i in range(100,160,10)]\n",
        "## Manual Best till date Checkpoint ##\n",
        "# params = {'num_leaves':150, 'objective':'binary','max_depth':7,'learning_rate':.05,'max_bin':200}\n",
        "# params['metric'] = ['auc', 'binary_logloss']"
      ],
      "execution_count": null,
      "outputs": []
    },
    {
      "cell_type": "code",
      "metadata": {
        "id": "Xu46iCSHp28Y",
        "colab_type": "code",
        "colab": {}
      },
      "source": [
        "accuracy_list_cb = []\n",
        "#cat_features = np.where(X_train.dtypes!=float)[0]\n",
        "def HPO_cb(cb_hps):\n",
        "    num_round = 50\n",
        "    model = CatBoostClassifier(**cb_hps,silent = True)\n",
        "    model.fit(X_train,y_train)\n",
        "    pred = model.predict_proba(X_test)[:,1]\n",
        "    for i in range(0,len(pred)): \n",
        "      if pred[i] >=0.5:\n",
        "          pred[i] = 1\n",
        "      else:\n",
        "          pred[i] = 0\n",
        "    accuracy_cb = accuracy_score(y_test,pred).mean()\n",
        "    accuracy_list_cb.append(accuracy_cb)\n",
        "    return {'loss': -accuracy_cb, 'status': STATUS_OK }"
      ],
      "execution_count": null,
      "outputs": []
    },
    {
      "cell_type": "code",
      "metadata": {
        "id": "eIm_xktFp_c6",
        "colab_type": "code",
        "colab": {
          "base_uri": "https://localhost:8080/",
          "height": 170
        },
        "outputId": "e24a9792-fc18-41bd-aeae-3418d5e69348"
      },
      "source": [
        "trials = Trials()\n",
        "best_cb = fmin(fn= HPO_cb,\n",
        "            space= cb_hps,\n",
        "            algo= tpe.suggest,\n",
        "            max_evals = 1,\n",
        "            trials = trials\n",
        "            )\n",
        "max_acc_cb = max(accuracy_list_cb)\n",
        "print(\"Best Hyperparameters for CatBoost are: \\n\")\n",
        "best_cb"
      ],
      "execution_count": null,
      "outputs": [
        {
          "output_type": "stream",
          "text": [
            "100%|██████████| 1/1 [36:55<00:00, 2215.11s/it, best loss: -0.1]\n",
            "Best Hyperparameters for CatBoost are: \n",
            "\n"
          ],
          "name": "stdout"
        },
        {
          "output_type": "execute_result",
          "data": {
            "text/plain": [
              "{'colsample_bylevel': 0.5,\n",
              " 'depth': 4,\n",
              " 'l2_leaf_reg': 9.0,\n",
              " 'learning_rate': 0.03490643364050493,\n",
              " 'n_estimators': 0,\n",
              " 'random_seed': 0}"
            ]
          },
          "metadata": {
            "tags": []
          },
          "execution_count": 14
        }
      ]
    },
    {
      "cell_type": "code",
      "metadata": {
        "id": "PTDx5PXXqFaq",
        "colab_type": "code",
        "colab": {
          "base_uri": "https://localhost:8080/",
          "height": 699
        },
        "outputId": "1a16097e-6f28-480c-cbd0-338e0194512c"
      },
      "source": [
        "parameters = ['n_estimators','random_seed','learning_rate','depth','l2_leaf_reg','colsample_bylevel']\n",
        "f, axes = plt.subplots(nrows=3, ncols=2, figsize=(15,8))\n",
        "f.tight_layout()\n",
        "cmap = plt.cm.jet\n",
        "for i, val in enumerate(parameters):\n",
        "    if val == 'depth':\n",
        "      best_cb[val] = depth_list[best_cb[val]]\n",
        "    elif val == 'n_estimators':\n",
        "      best_cb[val] = est_list[best_cb['n_estimators']]\n",
        "    elif val == 'random_seed':\n",
        "      best_cb[val]+=5\n",
        "    print(\"Best \" + str(val) + \"   =   \" + str(best_cb[val]))\n",
        "    xs = np.array([t['misc']['vals'][val] for t in trials.trials]).ravel()\n",
        "    ys = [-t['result']['loss'] for t in trials.trials]\n",
        "    xs, ys = zip(*sorted(zip(xs, ys)))\n",
        "    ys = np.array(ys)\n",
        "    c=np.array(cmap(float(i)/len(parameters)))\n",
        "    axes[i//2,i%2].scatter(xs, ys, s=20, linewidth=0.01, alpha=0.5, c=c.reshape(1,-1))\n",
        "    axes[i//2,i%2].scatter(best_cb[val],max_acc_cb,color = \"red\")\n",
        "    axes[i//2,i%2].set_title(val)"
      ],
      "execution_count": null,
      "outputs": [
        {
          "output_type": "stream",
          "text": [
            "Best n_estimators   =   100\n",
            "Best random_seed   =   5\n",
            "Best learning_rate   =   0.03490643364050493\n",
            "Best depth   =   9\n",
            "Best l2_leaf_reg   =   9.0\n",
            "Best colsample_bylevel   =   0.5\n"
          ],
          "name": "stdout"
        },
        {
          "output_type": "display_data",
          "data": {
            "image/png": "[encoded data removed]",
            "text/plain": [
              "<Figure size 1080x576 with 6 Axes>"
            ]
          },
          "metadata": {
            "tags": [],
            "needs_background": "light"
          }
        }
      ]
    },
    {
      "cell_type": "code",
      "metadata": {
        "id": "QYCfKz_7lKoh",
        "colab_type": "code",
        "colab": {
          "base_uri": "https://localhost:8080/",
          "height": 68
        },
        "outputId": "1235413f-c325-48c1-9295-52554beca86d"
      },
      "source": [
        "#cat_features = np.where(X_train.dtypes!=float)[0]\n",
        "model = CatBoostClassifier(      \n",
        "                                  n_estimators = best_cb['n_estimators'],\n",
        "                                  colsample_bylevel = best_cb['colsample_bylevel'],\n",
        "                                  learning_rate = best_cb['learning_rate'],\n",
        "                                  l2_leaf_reg = best_cb['l2_leaf_reg'], \n",
        "                                  random_seed = best_cb['random_seed'],\n",
        "                                  depth = best_cb['depth'],\n",
        "                                  silent = True\n",
        "                           )\n",
        "t1=datetime.now()\n",
        "model.fit(X_train,y_train)\n",
        "t2=datetime.now()\n",
        "execution_time_cat_boost = t2-t1\n",
        "t3 = datetime.now()\n",
        "pred = model.predict(X_test)\n",
        "#pred = model.predict_proba(X_test)[:,1]\n",
        "t4 = datetime.now()\n",
        "accuracy_cat_boost= round(multiclass_roc_auc_score(y_test, pred, average=\"macro\"),5)\n",
        "#accuracy_cat_boost = round(roc_auc_score(y_test,pred,multi_class=\"ovr\",average=None),5)\n",
        "#roc_auc_score(y_score=np_pred, y_true=np_label, multi_class=\"ovr\",average=None)\n",
        "print(\"Accuracy score = \",accuracy_cat_boost*100,\"%\")\n",
        "print(\"Execution time = \",execution_time_cat_boost)\n",
        "print(\"Prediction time = \",t4-t3)\n",
        "cat_boost_train_time = t2-t1"
      ],
      "execution_count": null,
      "outputs": [
        {
          "output_type": "stream",
          "text": [
            "Accuracy score =  61.836999999999996 %\n",
            "Execution time =  0:37:05.634245\n",
            "Prediction time =  0:00:00.026814\n"
          ],
          "name": "stdout"
        }
      ]
    },
    {
      "cell_type": "markdown",
      "metadata": {
        "id": "tVoERUHwqJaN",
        "colab_type": "text"
      },
      "source": [
        "# **Fit LightGBM model to the data**"
      ]
    },
    {
      "cell_type": "code",
      "metadata": {
        "id": "amgcu7snn4tm",
        "colab_type": "code",
        "colab": {}
      },
      "source": [
        "lgb_hps = { 'num_leaves': hp.choice('num_leaves',np.arange(100, 200, 10, dtype=int)),\n",
        "            'max_depth': hp.choice('max_depth',np.arange(5, 16, 1, dtype=int)),\n",
        "            'n_estimators': hp.quniform('n_estimators', 10, 700, 1),\n",
        "            'feature_fraction': hp.uniform('feature_fraction', 0.75, 1.0),\n",
        "            'bagging_fraction': hp.uniform('bagging_fraction', 0.75, 1.0),\n",
        "            'learning_rate': hp.loguniform('learning_rate', -5.0, -2.3),\n",
        "            'lambda_l1': hp.uniform('lambda_l1', 0, 10),\n",
        "            'lambda_l2': hp.uniform('lambda_l2', 0, 10)\n",
        "          }\n",
        "\n",
        "num_leaves_list = [100,110,120,130,140,150,160,170,180,190,200]\n",
        "## Manual Best till date Checkpoint ##\n",
        "# params = {'num_leaves':150, 'objective':'binary','max_depth':7,'learning_rate':.05,'max_bin':200}\n",
        "# params['metric'] = ['auc', 'binary_logloss']"
      ],
      "execution_count": null,
      "outputs": []
    },
    {
      "cell_type": "code",
      "metadata": {
        "id": "KBqC7e6yn4wq",
        "colab_type": "code",
        "colab": {}
      },
      "source": [
        "accuracy_list_lgbm = []\n",
        "def HPO_lgbm(lgb_hps):\n",
        "    num_round = 50\n",
        "    train_data=lgb.Dataset(X_train,label=y_train)\n",
        "    lgbm=lgb.train(lgb_hps,train_data,num_round)\n",
        "    ypred2=lgbm.predict(X_test)\n",
        "    for i in range(0,len(ypred2)): \n",
        "      if ypred2[i] >=0.5:\n",
        "          ypred2[i] = 1\n",
        "      else:\n",
        "          ypred2[i] = 0\n",
        "    accuracy_lgbm = accuracy_score(y_test,ypred2).mean()\n",
        "    accuracy_list_lgbm.append(accuracy_lgbm)\n",
        "    return {'loss': -accuracy_lgbm, 'status': STATUS_OK }"
      ],
      "execution_count": null,
      "outputs": []
    },
    {
      "cell_type": "code",
      "metadata": {
        "id": "Y6osQaeMn4zo",
        "colab_type": "code",
        "colab": {
          "base_uri": "https://localhost:8080/",
          "height": 275
        },
        "outputId": "041194ea-116c-4201-fe6f-85d207aa7a5c"
      },
      "source": [
        "trials = Trials()\n",
        "best_lgbm = fmin(fn= HPO_lgbm,\n",
        "            space= lgb_hps,\n",
        "            algo= tpe.suggest,\n",
        "            max_evals = 1,\n",
        "            trials = trials\n",
        "            )\n",
        "max_acc_lgbm = max(accuracy_list_lgbm)\n",
        "print(\"Best Hyperparameters for LGBM are: \\n\")\n",
        "best_lgbm"
      ],
      "execution_count": null,
      "outputs": [
        {
          "output_type": "stream",
          "text": [
            "\r  0%|          | 0/1 [00:00<?, ?it/s, best loss: ?]"
          ],
          "name": "stdout"
        },
        {
          "output_type": "stream",
          "text": [
            "/usr/local/lib/python3.6/dist-packages/lightgbm/engine.py:118: UserWarning: Found `n_estimators` in params. Will use it instead of argument\n",
            "  warnings.warn(\"Found `{}` in params. Will use it instead of argument\".format(alias))\n",
            "\n"
          ],
          "name": "stderr"
        },
        {
          "output_type": "stream",
          "text": [
            "100%|██████████| 1/1 [07:58<00:00, 478.53s/it, best loss: -0.07]\n",
            "Best Hyperparameters for LGBM are: \n",
            "\n"
          ],
          "name": "stdout"
        },
        {
          "output_type": "execute_result",
          "data": {
            "text/plain": [
              "{'bagging_fraction': 0.8594962491777394,\n",
              " 'feature_fraction': 0.8185250301618983,\n",
              " 'lambda_l1': 4.4970774871442964,\n",
              " 'lambda_l2': 0.06800728496590192,\n",
              " 'learning_rate': 0.008328237460358271,\n",
              " 'max_depth': 4,\n",
              " 'n_estimators': 426.0,\n",
              " 'num_leaves': 7}"
            ]
          },
          "metadata": {
            "tags": []
          },
          "execution_count": 19
        }
      ]
    },
    {
      "cell_type": "code",
      "metadata": {
        "id": "ATJzh086n2pg",
        "colab_type": "code",
        "colab": {
          "base_uri": "https://localhost:8080/",
          "height": 733
        },
        "outputId": "3895b41d-28ed-4a52-e27d-3001664575a5"
      },
      "source": [
        "parameters = ['num_leaves','max_depth','n_estimators','feature_fraction','bagging_fraction','learning_rate','lambda_l1','lambda_l2']\n",
        "f, axes = plt.subplots(nrows=4, ncols=2, figsize=(10,8))\n",
        "f.tight_layout()\n",
        "cmap = plt.cm.jet\n",
        "for i, val in enumerate(parameters):\n",
        "    print(\"Best \" + str(val) + \"   =   \" + str(best_lgbm[val]))\n",
        "    xs = np.array([t['misc']['vals'][val] for t in trials.trials]).ravel()\n",
        "    ys = [-t['result']['loss'] for t in trials.trials]\n",
        "    xs, ys = zip(*sorted(zip(xs, ys)))\n",
        "    ys = np.array(ys)\n",
        "    c=np.array(cmap(float(i)/len(parameters)))\n",
        "    axes[i//2,i%2].scatter(xs, ys, s=20, linewidth=0.01, alpha=0.5, c=c.reshape(1,-1))\n",
        "    axes[i//2,i%2].scatter(best_lgbm[val],max_acc_lgbm,color = \"red\")\n",
        "    axes[i//2,i%2].set_title(val)"
      ],
      "execution_count": null,
      "outputs": [
        {
          "output_type": "stream",
          "text": [
            "Best num_leaves   =   7\n",
            "Best max_depth   =   4\n",
            "Best n_estimators   =   426.0\n",
            "Best feature_fraction   =   0.8185250301618983\n",
            "Best bagging_fraction   =   0.8594962491777394\n",
            "Best learning_rate   =   0.008328237460358271\n",
            "Best lambda_l1   =   4.4970774871442964\n",
            "Best lambda_l2   =   0.06800728496590192\n"
          ],
          "name": "stdout"
        },
        {
          "output_type": "display_data",
          "data": {
            "image/png": "[encoded data removed]",
            "text/plain": [
              "<Figure size 720x576 with 8 Axes>"
            ]
          },
          "metadata": {
            "tags": [],
            "needs_background": "light"
          }
        }
      ]
    },
    {
      "cell_type": "code",
      "metadata": {
        "id": "MpNPeWWQoFEB",
        "colab_type": "code",
        "colab": {}
      },
      "source": [
        ""
      ],
      "execution_count": null,
      "outputs": []
    },
    {
      "cell_type": "code",
      "metadata": {
        "id": "vFiGeOJo1y2v",
        "colab_type": "code",
        "colab": {
          "base_uri": "https://localhost:8080/",
          "height": 102
        },
        "outputId": "2bf25dc0-4f9d-4ea6-f3f6-92091eac7af4"
      },
      "source": [
        "params = { \n",
        "            'num_leaves': num_leaves_list[best_lgbm['num_leaves']],\n",
        "            'max_depth': best_lgbm['max_depth'],\n",
        "            'n_estimators': best_lgbm['n_estimators'],\n",
        "            'feature_fraction':best_lgbm['feature_fraction'],\n",
        "            'bagging_fraction':best_lgbm['bagging_fraction'],\n",
        "            'learning_rate':best_lgbm['learning_rate'],\n",
        "            'lambda_l1': best_lgbm['lambda_l1'],\n",
        "            'lambda_l2':best_lgbm['lambda_l2']\n",
        "          }\n",
        "train_data=lgb.Dataset(X_train,label=y_train)\n",
        "\n",
        "num_round=100\n",
        "t1=datetime.now()\n",
        "lgbm=lgb.train(params,train_data,num_round)\n",
        "t2=datetime.now()\n",
        "execution_time_lgbm = t2-t1\n",
        "t3 = datetime.now()\n",
        "ypred2=lgbm.predict(X_test)\n",
        "t4 = datetime.now()\n",
        "\n",
        "for i in range(0,len(ypred2)): \n",
        "    if ypred2[i] >=0.5:\n",
        "        ypred2[i] = 1\n",
        "    else:\n",
        "        ypred2[i] = 0\n",
        "accuracy_lgbm = round(accuracy_score(ypred2,y_test),5)\n",
        "print(\"Accuracy score = \",accuracy_lgbm*100,\"%\")\n",
        "print(\"Execution time = \",execution_time_lgbm)\n",
        "print(\"Prediction time = \",t4-t3)\n",
        "lgbm_train_time = t2-t1"
      ],
      "execution_count": null,
      "outputs": [
        {
          "output_type": "stream",
          "text": [
            "/usr/local/lib/python3.6/dist-packages/lightgbm/engine.py:118: UserWarning: Found `n_estimators` in params. Will use it instead of argument\n",
            "  warnings.warn(\"Found `{}` in params. Will use it instead of argument\".format(alias))\n"
          ],
          "name": "stderr"
        },
        {
          "output_type": "stream",
          "text": [
            "Accuracy score =  7.000000000000001 %\n",
            "Execution time =  0:01:29.449974\n",
            "Prediction time =  0:00:00.006542\n"
          ],
          "name": "stdout"
        }
      ]
    },
    {
      "cell_type": "markdown",
      "metadata": {
        "id": "nI5vC_wXqW9E",
        "colab_type": "text"
      },
      "source": [
        "# **Fit XGBoost model to the data**"
      ]
    },
    {
      "cell_type": "code",
      "metadata": {
        "id": "sS5EUWCAphJA",
        "colab_type": "code",
        "colab": {}
      },
      "source": [
        "xgb_hps = {  \n",
        "            'learning_rate':     hp.loguniform('learning_rate', -5.0, -2.3),\n",
        "            'max_depth':         hp.choice('max_depth',np.arange(2,16,1,dtype = int)),\n",
        "            'lambda':            hp.quniform('lambda',0.01, 1.0, 0.01),\n",
        "            'subsample':        hp.quniform('subsample',0.1,1.0,0.1),\n",
        "            'colsample_bytree': hp.quniform('colsample_bytree',0.3, 0.8, 0.1),\n",
        "            'min_split_loss' : hp.quniform('min_split_loss',0.4,1.5,0.1)\n",
        "        }\n",
        "\n",
        "depth_list = [i for i in range(2,16,1)]"
      ],
      "execution_count": null,
      "outputs": []
    },
    {
      "cell_type": "code",
      "metadata": {
        "id": "dFC1NTFxphMa",
        "colab_type": "code",
        "colab": {}
      },
      "source": [
        "accuracy_list_xgb = []\n",
        "def HPO_xgb(xgb_hps):\n",
        "    model = model = XGBClassifier(**xgb_hps)\n",
        "    model.fit(X_train,y_train)\n",
        "    y_pred = model.predict(X_test)\n",
        "    accuracy_xgb = accuracy_score(y_pred,y_test).mean()\n",
        "    accuracy_list_xgb.append(accuracy_xgb)\n",
        "    return {'loss': -accuracy_xgb, 'status': STATUS_OK }"
      ],
      "execution_count": null,
      "outputs": []
    },
    {
      "cell_type": "code",
      "metadata": {
        "id": "vl21ZCnprLZK",
        "colab_type": "code",
        "colab": {
          "base_uri": "https://localhost:8080/",
          "height": 170
        },
        "outputId": "0e99b4a5-dd58-4770-babf-36d7556d9ccc"
      },
      "source": [
        "trials = Trials()\n",
        "best_xgb = fmin(fn= HPO_xgb,\n",
        "            space= xgb_hps,\n",
        "            algo= tpe.suggest,\n",
        "            max_evals = 1,\n",
        "            trials = trials\n",
        "            )\n",
        "max_acc_xgb = max(accuracy_list_xgb)\n",
        "print(\"Best Hyperparameters for XGBoost are: \\n\")\n",
        "best_xgb"
      ],
      "execution_count": null,
      "outputs": [
        {
          "output_type": "stream",
          "text": [
            "100%|██████████| 1/1 [15:02<00:00, 902.81s/it, best loss: -0.41]\n",
            "Best Hyperparameters for XGBoost are: \n",
            "\n"
          ],
          "name": "stdout"
        },
        {
          "output_type": "execute_result",
          "data": {
            "text/plain": [
              "{'colsample_bytree': 0.7000000000000001,\n",
              " 'lambda': 0.9500000000000001,\n",
              " 'learning_rate': 0.08170587792850575,\n",
              " 'max_depth': 7,\n",
              " 'min_split_loss': 1.4000000000000001,\n",
              " 'subsample': 0.1}"
            ]
          },
          "metadata": {
            "tags": []
          },
          "execution_count": 24
        }
      ]
    },
    {
      "cell_type": "code",
      "metadata": {
        "id": "8zEgnZvurO-k",
        "colab_type": "code",
        "colab": {
          "base_uri": "https://localhost:8080/",
          "height": 699
        },
        "outputId": "f1b14300-e447-4106-ef10-777cf7d0c49f"
      },
      "source": [
        "parameters = ['max_depth','subsample','learning_rate','min_split_loss','lambda','colsample_bytree']\n",
        "f, axes = plt.subplots(nrows=3, ncols=2, figsize=(15,8))\n",
        "f.tight_layout()\n",
        "cmap = plt.cm.jet\n",
        "for i, val in enumerate(parameters):\n",
        "    if val == 'max_depth':\n",
        "      best_xgb[val] = depth_list[best_xgb[val]]\n",
        "    print(\"Best \" + str(val) + \"   =   \" + str(best_xgb[val]))\n",
        "    xs = np.array([t['misc']['vals'][val] for t in trials.trials]).ravel()\n",
        "    ys = [-t['result']['loss'] for t in trials.trials]\n",
        "    xs, ys = zip(*sorted(zip(xs, ys)))\n",
        "    ys = np.array(ys)\n",
        "    c=np.array(cmap(float(i)/len(parameters)))\n",
        "    axes[i//2,i%2].scatter(xs, ys, s=20, linewidth=0.01, alpha=0.5, c=c.reshape(1,-1))\n",
        "    axes[i//2,i%2].scatter(best_xgb[val],max_acc_xgb,color = \"red\")\n",
        "    axes[i//2,i%2].set_title(val)"
      ],
      "execution_count": null,
      "outputs": [
        {
          "output_type": "stream",
          "text": [
            "Best max_depth   =   9\n",
            "Best subsample   =   0.1\n",
            "Best learning_rate   =   0.08170587792850575\n",
            "Best min_split_loss   =   1.4000000000000001\n",
            "Best lambda   =   0.9500000000000001\n",
            "Best colsample_bytree   =   0.7000000000000001\n"
          ],
          "name": "stdout"
        },
        {
          "output_type": "display_data",
          "data": {
            "image/png": "[encoded data removed]",
            "text/plain": [
              "<Figure size 1080x576 with 6 Axes>"
            ]
          },
          "metadata": {
            "tags": [],
            "needs_background": "light"
          }
        }
      ]
    },
    {
      "cell_type": "code",
      "metadata": {
        "id": "Y-TG1-CH2CIn",
        "colab_type": "code",
        "colab": {
          "base_uri": "https://localhost:8080/",
          "height": 68
        },
        "outputId": "1172e57f-2f83-4f8d-ac31-479c9da989ea"
      },
      "source": [
        "from xgboost import XGBClassifier\n",
        "model = XGBClassifier(**best_xgb)\n",
        "t1=datetime.now()\n",
        "model.fit(X_train,y_train)\n",
        "t2=datetime.now()\n",
        "execution_time_xgb = t2-t1\n",
        "t3 = datetime.now()\n",
        "y_pred = model.predict(X_test)\n",
        "t4 = datetime.now()\n",
        "predictions = [round(value) for value in y_pred]\n",
        "accuracy_xgb = round(accuracy_score(y_pred,y_test),5)\n",
        "print(\"Accuracy score = \",accuracy_xgb*100,\"%\")\n",
        "print(\"Execution time = \",execution_time_xgb)\n",
        "print(\"Prediction time = \",t4-t3)\n",
        "xgb_train_time = t2-t1"
      ],
      "execution_count": null,
      "outputs": [
        {
          "output_type": "stream",
          "text": [
            "Accuracy score =  41.0 %\n",
            "Execution time =  0:15:04.018050\n",
            "Prediction time =  0:00:00.053249\n"
          ],
          "name": "stdout"
        }
      ]
    },
    {
      "cell_type": "markdown",
      "metadata": {
        "id": "6l_hOR5MqejH",
        "colab_type": "text"
      },
      "source": [
        "# **Results and Plots**"
      ]
    },
    {
      "cell_type": "markdown",
      "metadata": {
        "id": "RyoBxLc7qggn",
        "colab_type": "text"
      },
      "source": [
        "# **1.Accuracy Plot**"
      ]
    },
    {
      "cell_type": "code",
      "metadata": {
        "id": "HhH9vbUf5QFd",
        "colab_type": "code",
        "colab": {
          "base_uri": "https://localhost:8080/",
          "height": 438
        },
        "outputId": "551d5650-a0c5-482b-897d-f0fb573ae936"
      },
      "source": [
        "import matplotlib.pyplot as plt\n",
        "fig = plt.figure(figsize = (4,5))\n",
        "ax = fig.add_axes([0,0,1,1])\n",
        "algorithms = ['LightGBM','XGBoost','CatBoost']\n",
        "accuracy = [accuracy_lgbm*100, accuracy_xgb*100,accuracy_cat_boost*100]\n",
        "g = ax.bar(algorithms,accuracy)\n",
        "plt.title(\"Accuracy Plot\")\n",
        "plt.xlabel(\"Algorithms on the Numeric Dataset\")\n",
        "plt.ylabel(\"Accuracy in %\")\n",
        "bar_label = [accuracy_lgbm*100, accuracy_xgb*100,accuracy_cat_boost*100]\n",
        "def autolabel(rects):\n",
        "    for idx,rect in enumerate(g):\n",
        "        height = rect.get_height()\n",
        "        ax.text(rect.get_x() + rect.get_width()/2., 1.0*height,\n",
        "                bar_label[idx],\n",
        "                ha='center', va='bottom', rotation=0)\n",
        "\n",
        "autolabel(g)\n",
        "plt.show()"
      ],
      "execution_count": null,
      "outputs": [
        {
          "output_type": "display_data",
          "data": {
            "image/png": "[encoded data removed]",
            "text/plain": [
              "<Figure size 288x360 with 1 Axes>"
            ]
          },
          "metadata": {
            "tags": [],
            "needs_background": "light"
          }
        }
      ]
    },
    {
      "cell_type": "markdown",
      "metadata": {
        "id": "Au0tDuRqqozN",
        "colab_type": "text"
      },
      "source": [
        "# **2.Training Time Plot**"
      ]
    },
    {
      "cell_type": "code",
      "metadata": {
        "id": "ROMFEo61hzLk",
        "colab_type": "code",
        "colab": {
          "base_uri": "https://localhost:8080/",
          "height": 438
        },
        "outputId": "95216ce0-5ea8-4703-9f9e-b35728387ae7"
      },
      "source": [
        "lg = float(str(lgbm_train_time)[5:])\n",
        "cb = float(str(cat_boost_train_time)[5:])\n",
        "xgb = float(str(xgb_train_time)[5:])\n",
        "fig1 = plt.figure(figsize = (4,5))\n",
        "ay = fig1.add_axes([0,0,1,1])\n",
        "algorithms = ['LightGBM','XGBoost','CatBoost']\n",
        "training_time = [lg,xgb,cb]\n",
        "g1 = ay.bar(algorithms,training_time)\n",
        "plt.title(\"Training Time Plot\")\n",
        "plt.xlabel(\"Algorithms on the Numeric Dataset\")\n",
        "plt.ylabel(\"Time Taken in Seconds\")\n",
        "bar_label = training_time\n",
        "def autolabel1(rects):\n",
        "    for idx,rect in enumerate(g1):\n",
        "        height = rect.get_height()\n",
        "        ay.text(rect.get_x() + rect.get_width()/2., 1.0*height,\n",
        "                bar_label[idx],\n",
        "                ha='center', va='bottom', rotation=0)\n",
        "\n",
        "autolabel1(g1)\n",
        "plt.show()"
      ],
      "execution_count": null,
      "outputs": [
        {
          "output_type": "display_data",
          "data": {
            "image/png": "[encoded data removed]",
            "text/plain": [
              "<Figure size 288x360 with 1 Axes>"
            ]
          },
          "metadata": {
            "tags": [],
            "needs_background": "light"
          }
        }
      ]
    },
    {
      "cell_type": "code",
      "metadata": {
        "id": "rx343xBx4xnZ",
        "colab_type": "code",
        "colab": {}
      },
      "source": [
        ""
      ],
      "execution_count": null,
      "outputs": []
    }
  ]
}
